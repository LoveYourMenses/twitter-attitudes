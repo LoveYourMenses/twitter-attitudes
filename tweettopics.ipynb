{
 "cells": [
  {
   "cell_type": "markdown",
   "id": "ad9fbbb9",
   "metadata": {},
   "source": [
    "Notebook for Twitter Topic Modeling"
   ]
  },
  {
   "cell_type": "code",
   "execution_count": 1,
   "id": "f335055b",
   "metadata": {},
   "outputs": [],
   "source": [
    "#pip install git+https://github.com/rwalk/gsdmm.git"
   ]
  },
  {
   "cell_type": "code",
   "execution_count": 2,
   "id": "c446750d",
   "metadata": {},
   "outputs": [],
   "source": [
    "import gsdmm\n",
    "import numpy as np\n",
    "import pandas as pd\n",
    "import pickle\n",
    "import re\n",
    "\n",
    "from gsdmm import MovieGroupProcess\n",
    "from tqdm import tqdm"
   ]
  },
  {
   "cell_type": "code",
   "execution_count": 3,
   "id": "c7a6a3b8",
   "metadata": {},
   "outputs": [
    {
     "data": {
      "text/html": [
       "<div>\n",
       "<style scoped>\n",
       "    .dataframe tbody tr th:only-of-type {\n",
       "        vertical-align: middle;\n",
       "    }\n",
       "\n",
       "    .dataframe tbody tr th {\n",
       "        vertical-align: top;\n",
       "    }\n",
       "\n",
       "    .dataframe thead th {\n",
       "        text-align: right;\n",
       "    }\n",
       "</style>\n",
       "<table border=\"1\" class=\"dataframe\">\n",
       "  <thead>\n",
       "    <tr style=\"text-align: right;\">\n",
       "      <th></th>\n",
       "      <th>Unnamed: 0</th>\n",
       "      <th>Unnamed: 0.1</th>\n",
       "      <th>tweet_id</th>\n",
       "      <th>text</th>\n",
       "      <th>processed_text</th>\n",
       "      <th>stripped_text</th>\n",
       "      <th>text_lem</th>\n",
       "      <th>text_tokens</th>\n",
       "    </tr>\n",
       "  </thead>\n",
       "  <tbody>\n",
       "    <tr>\n",
       "      <th>0</th>\n",
       "      <td>0</td>\n",
       "      <td>0</td>\n",
       "      <td>1630989944289398784</td>\n",
       "      <td>I \"think\" I started my menstrual cycle yesterd...</td>\n",
       "      <td>i \"think\" i started my menstrual cycle yesterd...</td>\n",
       "      <td>i  think  i started my menstrual cycle yesterd...</td>\n",
       "      <td>i  think  i started my menstrual cycle yesterd...</td>\n",
       "      <td>['i', 'think', 'i', 'started', 'my', 'menstrua...</td>\n",
       "    </tr>\n",
       "    <tr>\n",
       "      <th>1</th>\n",
       "      <td>1</td>\n",
       "      <td>1</td>\n",
       "      <td>1630974067875381265</td>\n",
       "      <td>cw menstruation ////\\n.\\n.\\n.\\ni have had my p...</td>\n",
       "      <td>cw menstruation //// . . . i have had my perio...</td>\n",
       "      <td>cw menstruation         i have had my period f...</td>\n",
       "      <td>cw menstruation         i have had my period f...</td>\n",
       "      <td>['cw', 'menstruation', 'i', 'have', 'had', 'my...</td>\n",
       "    </tr>\n",
       "    <tr>\n",
       "      <th>2</th>\n",
       "      <td>2</td>\n",
       "      <td>2</td>\n",
       "      <td>1630965437709053952</td>\n",
       "      <td>Clubs must ensure that they enhance supportive...</td>\n",
       "      <td>clubs must ensure that they enhance supportive...</td>\n",
       "      <td>clubs must ensure that they enhance supportive...</td>\n",
       "      <td>clubs must ensure that they enhance supportive...</td>\n",
       "      <td>['clubs', 'must', 'ensure', 'that', 'they', 'e...</td>\n",
       "    </tr>\n",
       "    <tr>\n",
       "      <th>3</th>\n",
       "      <td>3</td>\n",
       "      <td>3</td>\n",
       "      <td>1630878576538013696</td>\n",
       "      <td>#EndPeriodShaming\\nI used to think it was a no...</td>\n",
       "      <td>i used to think it was a normal narrative unt...</td>\n",
       "      <td>i used to think it was a normal narrative unt...</td>\n",
       "      <td>i used to think it was a normal narrative unt...</td>\n",
       "      <td>['i', 'used', 'to', 'think', 'it', 'was', 'a',...</td>\n",
       "    </tr>\n",
       "    <tr>\n",
       "      <th>4</th>\n",
       "      <td>4</td>\n",
       "      <td>4</td>\n",
       "      <td>1630863346143580161</td>\n",
       "      <td>Let’s push for ending period stigma, period po...</td>\n",
       "      <td>let us push for ending period stigma, period p...</td>\n",
       "      <td>let us push for ending period stigma  period p...</td>\n",
       "      <td>let us push for ending period stigma  period p...</td>\n",
       "      <td>['let', 'us', 'push', 'for', 'ending', 'period...</td>\n",
       "    </tr>\n",
       "  </tbody>\n",
       "</table>\n",
       "</div>"
      ],
      "text/plain": [
       "   Unnamed: 0  Unnamed: 0.1             tweet_id  \\\n",
       "0           0             0  1630989944289398784   \n",
       "1           1             1  1630974067875381265   \n",
       "2           2             2  1630965437709053952   \n",
       "3           3             3  1630878576538013696   \n",
       "4           4             4  1630863346143580161   \n",
       "\n",
       "                                                text  \\\n",
       "0  I \"think\" I started my menstrual cycle yesterd...   \n",
       "1  cw menstruation ////\\n.\\n.\\n.\\ni have had my p...   \n",
       "2  Clubs must ensure that they enhance supportive...   \n",
       "3  #EndPeriodShaming\\nI used to think it was a no...   \n",
       "4  Let’s push for ending period stigma, period po...   \n",
       "\n",
       "                                      processed_text  \\\n",
       "0  i \"think\" i started my menstrual cycle yesterd...   \n",
       "1  cw menstruation //// . . . i have had my perio...   \n",
       "2  clubs must ensure that they enhance supportive...   \n",
       "3   i used to think it was a normal narrative unt...   \n",
       "4  let us push for ending period stigma, period p...   \n",
       "\n",
       "                                       stripped_text  \\\n",
       "0  i  think  i started my menstrual cycle yesterd...   \n",
       "1  cw menstruation         i have had my period f...   \n",
       "2  clubs must ensure that they enhance supportive...   \n",
       "3   i used to think it was a normal narrative unt...   \n",
       "4  let us push for ending period stigma  period p...   \n",
       "\n",
       "                                            text_lem  \\\n",
       "0  i  think  i started my menstrual cycle yesterd...   \n",
       "1  cw menstruation         i have had my period f...   \n",
       "2  clubs must ensure that they enhance supportive...   \n",
       "3   i used to think it was a normal narrative unt...   \n",
       "4  let us push for ending period stigma  period p...   \n",
       "\n",
       "                                         text_tokens  \n",
       "0  ['i', 'think', 'i', 'started', 'my', 'menstrua...  \n",
       "1  ['cw', 'menstruation', 'i', 'have', 'had', 'my...  \n",
       "2  ['clubs', 'must', 'ensure', 'that', 'they', 'e...  \n",
       "3  ['i', 'used', 'to', 'think', 'it', 'was', 'a',...  \n",
       "4  ['let', 'us', 'push', 'for', 'ending', 'period...  "
      ]
     },
     "execution_count": 3,
     "metadata": {},
     "output_type": "execute_result"
    }
   ],
   "source": [
    "# Import dataset\n",
    "tweets_df = pd.read_csv('dummy data_processed')\n",
    "tweets_df.head()"
   ]
  },
  {
   "cell_type": "code",
   "execution_count": 4,
   "id": "6d066fee",
   "metadata": {},
   "outputs": [
    {
     "data": {
      "text/plain": [
       "[\"['i', 'think', 'i', 'started', 'my', 'menstrual', 'cycle', 'yesterday', 'but', 'due', 'to', 'the', 'ablation', 'surgery', 'working', 'i', 'am', 'not', 'bleeding', 'at', 'all', 'it', 'is', 'really', 'bizarre', 'and', 'cool', 'i', 'have', 'always', 'been', 'regular', 'so', 'i', 'can', 'track', 'that', 'it', 'is', 'the', 'right', 'time', 'but', 'the', 'period', 'part', 'of', 'it', 'is', 'just', 'not', 'there', 'at', 'all', 'one', 'still…']\",\n",
       " \"['cw', 'menstruation', 'i', 'have', 'had', 'my', 'period', 'for', 'over', '15', 'years', 'my', 'cycle', 'has', 'always', 'been', 'over', 'a', 'month', 'when', 'will', 'my', 'brain', 'stop', 'convincing', 'myself', 'that', 'i', 'am', 'pregnant', 'every', 'time', 'i', 'hit', 'day', '29', 'of', 'my', 'cycle']\",\n",
       " \"['clubs', 'must', 'ensure', 'that', 'they', 'enhance', 'supportive', 'measures', 'to', 'our', 'women', 'on', 'matters', 'menstrual', 'health', 'hygiene', 'management', 'mhm', 'including', 'period', 'tracking', 'free', 'sanitary', 'pads', 'mhm', 'talks', 'internally', 'and', 'with', 'health', 'experts', 'etc']\"]"
      ]
     },
     "execution_count": 4,
     "metadata": {},
     "output_type": "execute_result"
    }
   ],
   "source": [
    "# Create a single list of tweet tokens\n",
    "docs = tweets_df['text_tokens'].tolist()\n",
    "docs[:3]"
   ]
  },
  {
   "cell_type": "code",
   "execution_count": null,
   "id": "fe3d9816",
   "metadata": {},
   "outputs": [],
   "source": []
  }
 ],
 "metadata": {
  "kernelspec": {
   "display_name": "Python 3 (ipykernel)",
   "language": "python",
   "name": "python3"
  },
  "language_info": {
   "codemirror_mode": {
    "name": "ipython",
    "version": 3
   },
   "file_extension": ".py",
   "mimetype": "text/x-python",
   "name": "python",
   "nbconvert_exporter": "python",
   "pygments_lexer": "ipython3",
   "version": "3.9.7"
  }
 },
 "nbformat": 4,
 "nbformat_minor": 5
}
