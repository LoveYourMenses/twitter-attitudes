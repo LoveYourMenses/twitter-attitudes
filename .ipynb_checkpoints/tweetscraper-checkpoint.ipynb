{
 "cells": [
  {
   "cell_type": "markdown",
   "id": "c2662f51",
   "metadata": {},
   "source": [
    "Notebook for Twitter Menstruation Attitudes Analysis"
   ]
  },
  {
   "cell_type": "code",
   "execution_count": null,
   "id": "ea983f09",
   "metadata": {},
   "outputs": [],
   "source": [
    "#install snscrape package, uncomment if not installed\n",
    "#!pip install git+https://github.com/JustAnotherArchivist/snscrape.git"
   ]
  },
  {
   "cell_type": "code",
   "execution_count": null,
   "id": "26e5181a",
   "metadata": {},
   "outputs": [],
   "source": [
    "#import libraries\n",
    "import snscrape.modules.twitter as sntwitter\n",
    "import pandas as pd\n",
    "import numpy as np\n",
    "import re"
   ]
  },
  {
   "cell_type": "code",
   "execution_count": null,
   "id": "098d342b",
   "metadata": {
    "scrolled": true
   },
   "outputs": [],
   "source": [
    "# Setting variables to be used below\n",
    "maxTweets = 100\n",
    "keywords_list = ['period cycle','sanitary pads', 'my period', 'your period', 'period cramps', 'period cycle', 'period bleed', 'period bleeding','period poverty''menstruate','menstruation','menstrual','menses', 'menstruates', 'menstruated', 'menstruating', 'menstruous','premenstrual','postmenstrual', 'menopause','PMS', 'PMDD', 'endometriosis', 'fibroids', 'tampon', 'tampons']\n",
    "# OR operator to join search terms\n",
    "keywords = ' OR '.join(keywords_list)\n",
    "\n",
    "# Creating list to append tweet data to\n",
    "tweets_list = []\n",
    "\n",
    "# Using TwitterSearchScraper to scrape data and append tweets to list\n",
    "for i,tweet in enumerate(sntwitter.TwitterSearchScraper(keywords + 'since:2023-02-01 until:2023-02-02 lang:en').get_items()):\n",
    "    if i>maxTweets:\n",
    "        break\n",
    "    elif tweets_list.append([tweet.date, tweet.id, tweet.rawContent])"
   ]
  },
  {
   "cell_type": "code",
   "execution_count": null,
   "id": "05e311ad",
   "metadata": {},
   "outputs": [],
   "source": [
    "# Creating a dataframe from the tweets list above\n",
    "tweets_df = pd.DataFrame(tweets_list, columns=['Datetime', 'Tweet Id', 'Text'])\n",
    "\n",
    "# Display first 5 entries from dataframe\n",
    "tweets_df.head()"
   ]
  },
  {
   "cell_type": "code",
   "execution_count": null,
   "id": "f395b1e1",
   "metadata": {},
   "outputs": [],
   "source": []
  }
 ],
 "metadata": {
  "kernelspec": {
   "display_name": "Python 3 (ipykernel)",
   "language": "python",
   "name": "python3"
  },
  "language_info": {
   "codemirror_mode": {
    "name": "ipython",
    "version": 3
   },
   "file_extension": ".py",
   "mimetype": "text/x-python",
   "name": "python",
   "nbconvert_exporter": "python",
   "pygments_lexer": "ipython3",
   "version": "3.9.7"
  }
 },
 "nbformat": 4,
 "nbformat_minor": 5
}
