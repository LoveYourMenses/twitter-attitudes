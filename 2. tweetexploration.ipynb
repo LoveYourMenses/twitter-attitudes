{
 "cells": [
  {
   "cell_type": "markdown",
   "id": "4091f0b3",
   "metadata": {},
   "source": [
    "Notebook for Tweet Cleaning and Initial Exploration"
   ]
  },
  {
   "cell_type": "code",
   "execution_count": 1,
   "id": "9247e6e8",
   "metadata": {
    "scrolled": true
   },
   "outputs": [],
   "source": [
    "# Installing packages\n",
    "#!pip install wordcloud\n",
    "#!pip install plotly\n",
    "#!pip install contractions"
   ]
  },
  {
   "cell_type": "code",
   "execution_count": 2,
   "id": "5aa1f58b",
   "metadata": {},
   "outputs": [],
   "source": [
    "# Import packages\n",
    "import re\n",
    "import string\n",
    "import collections\n",
    "import contractions\n",
    "import ipywidgets\n",
    "import nltk.tokenize\n",
    "import emoji\n",
    "\n",
    "import plotly.offline as py\n",
    "import plotly.express as px\n",
    "import plotly.graph_objects as go\n",
    "import pandas as pd\n",
    "import matplotlib.pyplot as plt\n",
    "import matplotlib.font_manager as fm\n",
    "import numpy as np\n",
    "\n",
    "from sklearn.feature_extraction.text import CountVectorizer\n",
    "from nltk.tokenize import RegexpTokenizer\n",
    "from nltk.tokenize import word_tokenize\n",
    "from nltk.probability import FreqDist\n",
    "from nltk.stem import WordNetLemmatizer\n",
    "from nltk.corpus import stopwords\n",
    "from wordcloud import WordCloud, STOPWORDS, ImageColorGenerator\n",
    "from PIL import Image\n",
    "from collections import Counter"
   ]
  },
  {
   "cell_type": "code",
   "execution_count": 3,
   "id": "29c7ec05",
   "metadata": {},
   "outputs": [
    {
     "name": "stderr",
     "output_type": "stream",
     "text": [
      "[nltk_data] Downloading package stopwords to\n",
      "[nltk_data]     /Users/jacksonfuller/nltk_data...\n",
      "[nltk_data]   Package stopwords is already up-to-date!\n",
      "[nltk_data] Downloading package punkt to\n",
      "[nltk_data]     /Users/jacksonfuller/nltk_data...\n",
      "[nltk_data]   Package punkt is already up-to-date!\n",
      "[nltk_data] Downloading package wordnet to\n",
      "[nltk_data]     /Users/jacksonfuller/nltk_data...\n",
      "[nltk_data]   Package wordnet is already up-to-date!\n",
      "[nltk_data] Downloading package omw-1.4 to\n",
      "[nltk_data]     /Users/jacksonfuller/nltk_data...\n",
      "[nltk_data]   Package omw-1.4 is already up-to-date!\n"
     ]
    },
    {
     "data": {
      "text/plain": [
       "True"
      ]
     },
     "execution_count": 3,
     "metadata": {},
     "output_type": "execute_result"
    }
   ],
   "source": [
    "pd.set_option('display.max_colwidth', None)\n",
    "\n",
    "nltk.download('stopwords')\n",
    "nltk.download('punkt')\n",
    "nltk.download('wordnet')\n",
    "nltk.download('omw-1.4')"
   ]
  },
  {
   "cell_type": "markdown",
   "id": "37189881",
   "metadata": {},
   "source": [
    "Cleaning Dataset"
   ]
  },
  {
   "cell_type": "code",
   "execution_count": 4,
   "id": "c60204d2",
   "metadata": {
    "scrolled": true
   },
   "outputs": [
    {
     "data": {
      "text/html": [
       "<div>\n",
       "<style scoped>\n",
       "    .dataframe tbody tr th:only-of-type {\n",
       "        vertical-align: middle;\n",
       "    }\n",
       "\n",
       "    .dataframe tbody tr th {\n",
       "        vertical-align: top;\n",
       "    }\n",
       "\n",
       "    .dataframe thead th {\n",
       "        text-align: right;\n",
       "    }\n",
       "</style>\n",
       "<table border=\"1\" class=\"dataframe\">\n",
       "  <thead>\n",
       "    <tr style=\"text-align: right;\">\n",
       "      <th></th>\n",
       "      <th>Unnamed: 0</th>\n",
       "      <th>tweet_id</th>\n",
       "      <th>tweet_date</th>\n",
       "      <th>text</th>\n",
       "    </tr>\n",
       "  </thead>\n",
       "  <tbody>\n",
       "    <tr>\n",
       "      <th>0</th>\n",
       "      <td>0</td>\n",
       "      <td>1641476680660254726</td>\n",
       "      <td>2023-03-30 16:25:12+00:00</td>\n",
       "      <td>This is amazing. I've been pretty lucky in that my periods themselves are pretty average -- still painful, but not crippling. But what was crippling was my PMDD and the migraines that were tied to my cycle. To be able to just have that time would be invaluable.</td>\n",
       "    </tr>\n",
       "    <tr>\n",
       "      <th>1</th>\n",
       "      <td>1</td>\n",
       "      <td>1641473383291400208</td>\n",
       "      <td>2023-03-30 16:12:06+00:00</td>\n",
       "      <td>@LadySnArkansas Some girls start their menstrual periods in third grade.  Teachers must discuss with the girl, give reassurance, provide sanitary pads, etc.  Teachers must cope with many situations.  This is one.</td>\n",
       "    </tr>\n",
       "    <tr>\n",
       "      <th>2</th>\n",
       "      <td>2</td>\n",
       "      <td>1641473086661828609</td>\n",
       "      <td>2023-03-30 16:10:55+00:00</td>\n",
       "      <td>@KiraAfter_Dark @RebeccadeLuca8 @CDPROJEKTRED Nope completely wrong. My opinion is women do need their time of period off from work. In some RARE cases keyword is rare here don't let it go over your head. In some RARE cases a woman's menstrual cycle might be painfullyagonizing. But for the other 99 percent. Stop being soft</td>\n",
       "    </tr>\n",
       "    <tr>\n",
       "      <th>3</th>\n",
       "      <td>3</td>\n",
       "      <td>1641447805708546048</td>\n",
       "      <td>2023-03-30 14:30:28+00:00</td>\n",
       "      <td>Fluctuating hormone levels during your menstrual cycle can impact your complexion. Here are my #ProTips on caring for your skin during your period.\\n\\nhttps://t.co/ALEXR0HrUW</td>\n",
       "    </tr>\n",
       "    <tr>\n",
       "      <th>4</th>\n",
       "      <td>4</td>\n",
       "      <td>1641439775759667203</td>\n",
       "      <td>2023-03-30 13:58:33+00:00</td>\n",
       "      <td>Scented Sanitary Pads' are a big No-No. Swipe left to know why\\n\\n#sanitarypads #periods #menstruation #sanitarynapkins #period #menstruationmatters #menstrualhealth\\n#Scentedpads https://t.co/SZyN5I95ca</td>\n",
       "    </tr>\n",
       "  </tbody>\n",
       "</table>\n",
       "</div>"
      ],
      "text/plain": [
       "   Unnamed: 0             tweet_id                 tweet_date  \\\n",
       "0           0  1641476680660254726  2023-03-30 16:25:12+00:00   \n",
       "1           1  1641473383291400208  2023-03-30 16:12:06+00:00   \n",
       "2           2  1641473086661828609  2023-03-30 16:10:55+00:00   \n",
       "3           3  1641447805708546048  2023-03-30 14:30:28+00:00   \n",
       "4           4  1641439775759667203  2023-03-30 13:58:33+00:00   \n",
       "\n",
       "                                                                                                                                                                                                                                                                                                                                   text  \n",
       "0                                                                 This is amazing. I've been pretty lucky in that my periods themselves are pretty average -- still painful, but not crippling. But what was crippling was my PMDD and the migraines that were tied to my cycle. To be able to just have that time would be invaluable.  \n",
       "1                                                                                                                  @LadySnArkansas Some girls start their menstrual periods in third grade.  Teachers must discuss with the girl, give reassurance, provide sanitary pads, etc.  Teachers must cope with many situations.  This is one.  \n",
       "2  @KiraAfter_Dark @RebeccadeLuca8 @CDPROJEKTRED Nope completely wrong. My opinion is women do need their time of period off from work. In some RARE cases keyword is rare here don't let it go over your head. In some RARE cases a woman's menstrual cycle might be painfullyagonizing. But for the other 99 percent. Stop being soft  \n",
       "3                                                                                                                                                        Fluctuating hormone levels during your menstrual cycle can impact your complexion. Here are my #ProTips on caring for your skin during your period.\\n\\nhttps://t.co/ALEXR0HrUW  \n",
       "4                                                                                                                           Scented Sanitary Pads' are a big No-No. Swipe left to know why\\n\\n#sanitarypads #periods #menstruation #sanitarynapkins #period #menstruationmatters #menstrualhealth\\n#Scentedpads https://t.co/SZyN5I95ca  "
      ]
     },
     "execution_count": 4,
     "metadata": {},
     "output_type": "execute_result"
    }
   ],
   "source": [
    "# Import raw dataset\n",
    "tweets_df = pd.read_csv('tweet')\n",
    "tweets_df.head()"
   ]
  },
  {
   "cell_type": "code",
   "execution_count": 5,
   "id": "bfad7e07",
   "metadata": {},
   "outputs": [],
   "source": [
    "def processed(text):    \n",
    "    # Remove links\n",
    "    text = re.sub('http://\\S+|https://\\S+', '', text)\n",
    "    text = re.sub('http[s]?://\\S+', '', text)\n",
    "    text = re.sub(r\"http\\S+\", \"\", text)\n",
    "\n",
    "    # Convert HTML references\n",
    "    text = re.sub('&amp', 'and', text)\n",
    "    text = re.sub('&lt', '<', text)\n",
    "    text = re.sub('&gt', '>', text)\n",
    "\n",
    "    # Remove new line characters\n",
    "    text = re.sub('[\\r\\n]+', ' ', text)\n",
    "    \n",
    "    # Remove mentions\n",
    "    text = re.sub(r'@\\w+', '', text)\n",
    "    \n",
    "    # Remove hashtags\n",
    "    text = re.sub(r'#\\w+', '', text)\n",
    "\n",
    "    # Remove multiple space characters\n",
    "    text = re.sub('\\s+',' ', text)\n",
    "    \n",
    "    # Convert to lowercase\n",
    "    text = text.lower()\n",
    "    \n",
    "    # Expand contractions\n",
    "    try:\n",
    "        return contractions.fix(text)\n",
    "    except:\n",
    "        return text"
   ]
  },
  {
   "cell_type": "code",
   "execution_count": 6,
   "id": "62e8d695",
   "metadata": {
    "scrolled": true
   },
   "outputs": [
    {
     "data": {
      "text/html": [
       "<div>\n",
       "<style scoped>\n",
       "    .dataframe tbody tr th:only-of-type {\n",
       "        vertical-align: middle;\n",
       "    }\n",
       "\n",
       "    .dataframe tbody tr th {\n",
       "        vertical-align: top;\n",
       "    }\n",
       "\n",
       "    .dataframe thead th {\n",
       "        text-align: right;\n",
       "    }\n",
       "</style>\n",
       "<table border=\"1\" class=\"dataframe\">\n",
       "  <thead>\n",
       "    <tr style=\"text-align: right;\">\n",
       "      <th></th>\n",
       "      <th>Unnamed: 0</th>\n",
       "      <th>tweet_id</th>\n",
       "      <th>tweet_date</th>\n",
       "      <th>text</th>\n",
       "      <th>processed_text</th>\n",
       "    </tr>\n",
       "  </thead>\n",
       "  <tbody>\n",
       "    <tr>\n",
       "      <th>0</th>\n",
       "      <td>0</td>\n",
       "      <td>1641476680660254726</td>\n",
       "      <td>2023-03-30 16:25:12+00:00</td>\n",
       "      <td>This is amazing. I've been pretty lucky in that my periods themselves are pretty average -- still painful, but not crippling. But what was crippling was my PMDD and the migraines that were tied to my cycle. To be able to just have that time would be invaluable.</td>\n",
       "      <td>this is amazing. i have been pretty lucky in that my periods themselves are pretty average -- still painful, but not crippling. but what was crippling was my pmdd and the migraines that were tied to my cycle. to be able to just have that time would be invaluable.</td>\n",
       "    </tr>\n",
       "    <tr>\n",
       "      <th>1</th>\n",
       "      <td>1</td>\n",
       "      <td>1641473383291400208</td>\n",
       "      <td>2023-03-30 16:12:06+00:00</td>\n",
       "      <td>@LadySnArkansas Some girls start their menstrual periods in third grade.  Teachers must discuss with the girl, give reassurance, provide sanitary pads, etc.  Teachers must cope with many situations.  This is one.</td>\n",
       "      <td>some girls start their menstrual periods in third grade. teachers must discuss with the girl, give reassurance, provide sanitary pads, etc. teachers must cope with many situations. this is one.</td>\n",
       "    </tr>\n",
       "    <tr>\n",
       "      <th>2</th>\n",
       "      <td>2</td>\n",
       "      <td>1641473086661828609</td>\n",
       "      <td>2023-03-30 16:10:55+00:00</td>\n",
       "      <td>@KiraAfter_Dark @RebeccadeLuca8 @CDPROJEKTRED Nope completely wrong. My opinion is women do need their time of period off from work. In some RARE cases keyword is rare here don't let it go over your head. In some RARE cases a woman's menstrual cycle might be painfullyagonizing. But for the other 99 percent. Stop being soft</td>\n",
       "      <td>nope completely wrong. my opinion is women do need their time of period off from work. in some rare cases keyword is rare here do not let it go over your head. in some rare cases a woman's menstrual cycle might be painfullyagonizing. but for the other 99 percent. stop being soft</td>\n",
       "    </tr>\n",
       "    <tr>\n",
       "      <th>3</th>\n",
       "      <td>3</td>\n",
       "      <td>1641447805708546048</td>\n",
       "      <td>2023-03-30 14:30:28+00:00</td>\n",
       "      <td>Fluctuating hormone levels during your menstrual cycle can impact your complexion. Here are my #ProTips on caring for your skin during your period.\\n\\nhttps://t.co/ALEXR0HrUW</td>\n",
       "      <td>fluctuating hormone levels during your menstrual cycle can impact your complexion. here are my on caring for your skin during your period.</td>\n",
       "    </tr>\n",
       "    <tr>\n",
       "      <th>4</th>\n",
       "      <td>4</td>\n",
       "      <td>1641439775759667203</td>\n",
       "      <td>2023-03-30 13:58:33+00:00</td>\n",
       "      <td>Scented Sanitary Pads' are a big No-No. Swipe left to know why\\n\\n#sanitarypads #periods #menstruation #sanitarynapkins #period #menstruationmatters #menstrualhealth\\n#Scentedpads https://t.co/SZyN5I95ca</td>\n",
       "      <td>scented sanitary pads' are a big no-no. swipe left to know why</td>\n",
       "    </tr>\n",
       "  </tbody>\n",
       "</table>\n",
       "</div>"
      ],
      "text/plain": [
       "   Unnamed: 0             tweet_id                 tweet_date  \\\n",
       "0           0  1641476680660254726  2023-03-30 16:25:12+00:00   \n",
       "1           1  1641473383291400208  2023-03-30 16:12:06+00:00   \n",
       "2           2  1641473086661828609  2023-03-30 16:10:55+00:00   \n",
       "3           3  1641447805708546048  2023-03-30 14:30:28+00:00   \n",
       "4           4  1641439775759667203  2023-03-30 13:58:33+00:00   \n",
       "\n",
       "                                                                                                                                                                                                                                                                                                                                   text  \\\n",
       "0                                                                 This is amazing. I've been pretty lucky in that my periods themselves are pretty average -- still painful, but not crippling. But what was crippling was my PMDD and the migraines that were tied to my cycle. To be able to just have that time would be invaluable.   \n",
       "1                                                                                                                  @LadySnArkansas Some girls start their menstrual periods in third grade.  Teachers must discuss with the girl, give reassurance, provide sanitary pads, etc.  Teachers must cope with many situations.  This is one.   \n",
       "2  @KiraAfter_Dark @RebeccadeLuca8 @CDPROJEKTRED Nope completely wrong. My opinion is women do need their time of period off from work. In some RARE cases keyword is rare here don't let it go over your head. In some RARE cases a woman's menstrual cycle might be painfullyagonizing. But for the other 99 percent. Stop being soft   \n",
       "3                                                                                                                                                        Fluctuating hormone levels during your menstrual cycle can impact your complexion. Here are my #ProTips on caring for your skin during your period.\\n\\nhttps://t.co/ALEXR0HrUW   \n",
       "4                                                                                                                           Scented Sanitary Pads' are a big No-No. Swipe left to know why\\n\\n#sanitarypads #periods #menstruation #sanitarynapkins #period #menstruationmatters #menstrualhealth\\n#Scentedpads https://t.co/SZyN5I95ca   \n",
       "\n",
       "                                                                                                                                                                                                                                                                             processed_text  \n",
       "0                   this is amazing. i have been pretty lucky in that my periods themselves are pretty average -- still painful, but not crippling. but what was crippling was my pmdd and the migraines that were tied to my cycle. to be able to just have that time would be invaluable.  \n",
       "1                                                                                         some girls start their menstrual periods in third grade. teachers must discuss with the girl, give reassurance, provide sanitary pads, etc. teachers must cope with many situations. this is one.  \n",
       "2   nope completely wrong. my opinion is women do need their time of period off from work. in some rare cases keyword is rare here do not let it go over your head. in some rare cases a woman's menstrual cycle might be painfullyagonizing. but for the other 99 percent. stop being soft  \n",
       "3                                                                                                                                               fluctuating hormone levels during your menstrual cycle can impact your complexion. here are my on caring for your skin during your period.   \n",
       "4                                                                                                                                                                                                                           scented sanitary pads' are a big no-no. swipe left to know why   "
      ]
     },
     "execution_count": 6,
     "metadata": {},
     "output_type": "execute_result"
    }
   ],
   "source": [
    "tweets_df['processed_text'] = tweets_df['text'].apply(processed)\n",
    "tweets_df.head()"
   ]
  },
  {
   "cell_type": "code",
   "execution_count": 7,
   "id": "be1dc056",
   "metadata": {},
   "outputs": [],
   "source": [
    "# Initialize Lemmatize\n",
    "wordnet_lem = WordNetLemmatizer()\n",
    "stopwords = set(STOPWORDS)\n",
    "\n",
    "#  Strip punctuation, stopwords, numbers\n",
    "def stripped(text):\n",
    "    punctuation = '!\"$%&\\'()*+,-./:;<=>?[\\\\]^_`{|}~•@'\n",
    "    # Drop punctuation\n",
    "    text = re.sub('[' + punctuation + ']+', ' ', text)\n",
    "    # Drop numbers\n",
    "    text = re.sub(r'\\d+', '', text)\n",
    "    # Drop extra blank spaces\n",
    "    text = re.sub(r'\\s+', ' ', text).strip()\n",
    "    # Drop words less than 3 characters and stopwords\n",
    "    tokens = [word for word in text.split() if len(word) >= 3 and word not in stopwords]\n",
    "    return \" \".join(tokens)\n",
    "\n",
    "tweets_df['stripped_text'] = tweets_df['processed_text'].apply(stripped)\n",
    "\n",
    "# Lemmatize stripped text\n",
    "tweets_df['text_lem'] = tweets_df['stripped_text'].apply(wordnet_lem.lemmatize)"
   ]
  },
  {
   "cell_type": "code",
   "execution_count": 8,
   "id": "baa6c991",
   "metadata": {
    "scrolled": false
   },
   "outputs": [
    {
     "data": {
      "text/html": [
       "<div>\n",
       "<style scoped>\n",
       "    .dataframe tbody tr th:only-of-type {\n",
       "        vertical-align: middle;\n",
       "    }\n",
       "\n",
       "    .dataframe tbody tr th {\n",
       "        vertical-align: top;\n",
       "    }\n",
       "\n",
       "    .dataframe thead th {\n",
       "        text-align: right;\n",
       "    }\n",
       "</style>\n",
       "<table border=\"1\" class=\"dataframe\">\n",
       "  <thead>\n",
       "    <tr style=\"text-align: right;\">\n",
       "      <th></th>\n",
       "      <th>Unnamed: 0</th>\n",
       "      <th>tweet_id</th>\n",
       "      <th>tweet_date</th>\n",
       "      <th>text</th>\n",
       "      <th>processed_text</th>\n",
       "      <th>stripped_text</th>\n",
       "      <th>text_lem</th>\n",
       "      <th>text_tokens</th>\n",
       "    </tr>\n",
       "  </thead>\n",
       "  <tbody>\n",
       "    <tr>\n",
       "      <th>0</th>\n",
       "      <td>0</td>\n",
       "      <td>1641476680660254726</td>\n",
       "      <td>2023-03-30 16:25:12+00:00</td>\n",
       "      <td>This is amazing. I've been pretty lucky in that my periods themselves are pretty average -- still painful, but not crippling. But what was crippling was my PMDD and the migraines that were tied to my cycle. To be able to just have that time would be invaluable.</td>\n",
       "      <td>this is amazing. i have been pretty lucky in that my periods themselves are pretty average -- still painful, but not crippling. but what was crippling was my pmdd and the migraines that were tied to my cycle. to be able to just have that time would be invaluable.</td>\n",
       "      <td>amazing pretty lucky periods pretty average still painful crippling crippling pmdd migraines tied cycle able time invaluable</td>\n",
       "      <td>amazing pretty lucky periods pretty average still painful crippling crippling pmdd migraines tied cycle able time invaluable</td>\n",
       "      <td>[amazing, pretty, lucky, periods, pretty, average, still, painful, crippling, crippling, pmdd, migraines, tied, cycle, able, time, invaluable]</td>\n",
       "    </tr>\n",
       "    <tr>\n",
       "      <th>1</th>\n",
       "      <td>1</td>\n",
       "      <td>1641473383291400208</td>\n",
       "      <td>2023-03-30 16:12:06+00:00</td>\n",
       "      <td>@LadySnArkansas Some girls start their menstrual periods in third grade.  Teachers must discuss with the girl, give reassurance, provide sanitary pads, etc.  Teachers must cope with many situations.  This is one.</td>\n",
       "      <td>some girls start their menstrual periods in third grade. teachers must discuss with the girl, give reassurance, provide sanitary pads, etc. teachers must cope with many situations. this is one.</td>\n",
       "      <td>girls start menstrual periods third grade teachers must discuss girl give reassurance provide sanitary pads etc teachers must cope many situations one</td>\n",
       "      <td>girls start menstrual periods third grade teachers must discuss girl give reassurance provide sanitary pads etc teachers must cope many situations one</td>\n",
       "      <td>[girls, start, menstrual, periods, third, grade, teachers, must, discuss, girl, give, reassurance, provide, sanitary, pads, etc, teachers, must, cope, many, situations, one]</td>\n",
       "    </tr>\n",
       "    <tr>\n",
       "      <th>2</th>\n",
       "      <td>2</td>\n",
       "      <td>1641473086661828609</td>\n",
       "      <td>2023-03-30 16:10:55+00:00</td>\n",
       "      <td>@KiraAfter_Dark @RebeccadeLuca8 @CDPROJEKTRED Nope completely wrong. My opinion is women do need their time of period off from work. In some RARE cases keyword is rare here don't let it go over your head. In some RARE cases a woman's menstrual cycle might be painfullyagonizing. But for the other 99 percent. Stop being soft</td>\n",
       "      <td>nope completely wrong. my opinion is women do need their time of period off from work. in some rare cases keyword is rare here do not let it go over your head. in some rare cases a woman's menstrual cycle might be painfullyagonizing. but for the other 99 percent. stop being soft</td>\n",
       "      <td>nope completely wrong opinion women need time period work rare cases keyword rare let head rare cases woman menstrual cycle might painfullyagonizing percent stop soft</td>\n",
       "      <td>nope completely wrong opinion women need time period work rare cases keyword rare let head rare cases woman menstrual cycle might painfullyagonizing percent stop soft</td>\n",
       "      <td>[nope, completely, wrong, opinion, women, need, time, period, work, rare, cases, keyword, rare, let, head, rare, cases, woman, menstrual, cycle, might, painfullyagonizing, percent, stop, soft]</td>\n",
       "    </tr>\n",
       "    <tr>\n",
       "      <th>3</th>\n",
       "      <td>3</td>\n",
       "      <td>1641447805708546048</td>\n",
       "      <td>2023-03-30 14:30:28+00:00</td>\n",
       "      <td>Fluctuating hormone levels during your menstrual cycle can impact your complexion. Here are my #ProTips on caring for your skin during your period.\\n\\nhttps://t.co/ALEXR0HrUW</td>\n",
       "      <td>fluctuating hormone levels during your menstrual cycle can impact your complexion. here are my on caring for your skin during your period.</td>\n",
       "      <td>fluctuating hormone levels menstrual cycle impact complexion caring skin period</td>\n",
       "      <td>fluctuating hormone levels menstrual cycle impact complexion caring skin period</td>\n",
       "      <td>[fluctuating, hormone, levels, menstrual, cycle, impact, complexion, caring, skin, period]</td>\n",
       "    </tr>\n",
       "    <tr>\n",
       "      <th>4</th>\n",
       "      <td>4</td>\n",
       "      <td>1641439775759667203</td>\n",
       "      <td>2023-03-30 13:58:33+00:00</td>\n",
       "      <td>Scented Sanitary Pads' are a big No-No. Swipe left to know why\\n\\n#sanitarypads #periods #menstruation #sanitarynapkins #period #menstruationmatters #menstrualhealth\\n#Scentedpads https://t.co/SZyN5I95ca</td>\n",
       "      <td>scented sanitary pads' are a big no-no. swipe left to know why</td>\n",
       "      <td>scented sanitary pads big swipe left know</td>\n",
       "      <td>scented sanitary pads big swipe left know</td>\n",
       "      <td>[scented, sanitary, pads, big, swipe, left, know]</td>\n",
       "    </tr>\n",
       "  </tbody>\n",
       "</table>\n",
       "</div>"
      ],
      "text/plain": [
       "   Unnamed: 0             tweet_id                 tweet_date  \\\n",
       "0           0  1641476680660254726  2023-03-30 16:25:12+00:00   \n",
       "1           1  1641473383291400208  2023-03-30 16:12:06+00:00   \n",
       "2           2  1641473086661828609  2023-03-30 16:10:55+00:00   \n",
       "3           3  1641447805708546048  2023-03-30 14:30:28+00:00   \n",
       "4           4  1641439775759667203  2023-03-30 13:58:33+00:00   \n",
       "\n",
       "                                                                                                                                                                                                                                                                                                                                   text  \\\n",
       "0                                                                 This is amazing. I've been pretty lucky in that my periods themselves are pretty average -- still painful, but not crippling. But what was crippling was my PMDD and the migraines that were tied to my cycle. To be able to just have that time would be invaluable.   \n",
       "1                                                                                                                  @LadySnArkansas Some girls start their menstrual periods in third grade.  Teachers must discuss with the girl, give reassurance, provide sanitary pads, etc.  Teachers must cope with many situations.  This is one.   \n",
       "2  @KiraAfter_Dark @RebeccadeLuca8 @CDPROJEKTRED Nope completely wrong. My opinion is women do need their time of period off from work. In some RARE cases keyword is rare here don't let it go over your head. In some RARE cases a woman's menstrual cycle might be painfullyagonizing. But for the other 99 percent. Stop being soft   \n",
       "3                                                                                                                                                        Fluctuating hormone levels during your menstrual cycle can impact your complexion. Here are my #ProTips on caring for your skin during your period.\\n\\nhttps://t.co/ALEXR0HrUW   \n",
       "4                                                                                                                           Scented Sanitary Pads' are a big No-No. Swipe left to know why\\n\\n#sanitarypads #periods #menstruation #sanitarynapkins #period #menstruationmatters #menstrualhealth\\n#Scentedpads https://t.co/SZyN5I95ca   \n",
       "\n",
       "                                                                                                                                                                                                                                                                             processed_text  \\\n",
       "0                   this is amazing. i have been pretty lucky in that my periods themselves are pretty average -- still painful, but not crippling. but what was crippling was my pmdd and the migraines that were tied to my cycle. to be able to just have that time would be invaluable.   \n",
       "1                                                                                         some girls start their menstrual periods in third grade. teachers must discuss with the girl, give reassurance, provide sanitary pads, etc. teachers must cope with many situations. this is one.   \n",
       "2   nope completely wrong. my opinion is women do need their time of period off from work. in some rare cases keyword is rare here do not let it go over your head. in some rare cases a woman's menstrual cycle might be painfullyagonizing. but for the other 99 percent. stop being soft   \n",
       "3                                                                                                                                               fluctuating hormone levels during your menstrual cycle can impact your complexion. here are my on caring for your skin during your period.    \n",
       "4                                                                                                                                                                                                                           scented sanitary pads' are a big no-no. swipe left to know why    \n",
       "\n",
       "                                                                                                                                                            stripped_text  \\\n",
       "0                                            amazing pretty lucky periods pretty average still painful crippling crippling pmdd migraines tied cycle able time invaluable   \n",
       "1                  girls start menstrual periods third grade teachers must discuss girl give reassurance provide sanitary pads etc teachers must cope many situations one   \n",
       "2  nope completely wrong opinion women need time period work rare cases keyword rare let head rare cases woman menstrual cycle might painfullyagonizing percent stop soft   \n",
       "3                                                                                         fluctuating hormone levels menstrual cycle impact complexion caring skin period   \n",
       "4                                                                                                                               scented sanitary pads big swipe left know   \n",
       "\n",
       "                                                                                                                                                                 text_lem  \\\n",
       "0                                            amazing pretty lucky periods pretty average still painful crippling crippling pmdd migraines tied cycle able time invaluable   \n",
       "1                  girls start menstrual periods third grade teachers must discuss girl give reassurance provide sanitary pads etc teachers must cope many situations one   \n",
       "2  nope completely wrong opinion women need time period work rare cases keyword rare let head rare cases woman menstrual cycle might painfullyagonizing percent stop soft   \n",
       "3                                                                                         fluctuating hormone levels menstrual cycle impact complexion caring skin period   \n",
       "4                                                                                                                               scented sanitary pads big swipe left know   \n",
       "\n",
       "                                                                                                                                                                                        text_tokens  \n",
       "0                                                    [amazing, pretty, lucky, periods, pretty, average, still, painful, crippling, crippling, pmdd, migraines, tied, cycle, able, time, invaluable]  \n",
       "1                     [girls, start, menstrual, periods, third, grade, teachers, must, discuss, girl, give, reassurance, provide, sanitary, pads, etc, teachers, must, cope, many, situations, one]  \n",
       "2  [nope, completely, wrong, opinion, women, need, time, period, work, rare, cases, keyword, rare, let, head, rare, cases, woman, menstrual, cycle, might, painfullyagonizing, percent, stop, soft]  \n",
       "3                                                                                                        [fluctuating, hormone, levels, menstrual, cycle, impact, complexion, caring, skin, period]  \n",
       "4                                                                                                                                                 [scented, sanitary, pads, big, swipe, left, know]  "
      ]
     },
     "execution_count": 8,
     "metadata": {},
     "output_type": "execute_result"
    }
   ],
   "source": [
    "tweets_df['text_tokens'] = tweets_df['text_lem'].apply(word_tokenize)\n",
    "tweets_df.head()"
   ]
  },
  {
   "cell_type": "markdown",
   "id": "79298925",
   "metadata": {},
   "source": [
    "Hashtags"
   ]
  },
  {
   "cell_type": "code",
   "execution_count": 9,
   "id": "45971c08",
   "metadata": {},
   "outputs": [
    {
     "name": "stdout",
     "output_type": "stream",
     "text": [
      "#menstruation        579       \n",
      "#periods             505       \n",
      "#period              380       \n",
      "#women               203       \n",
      "#teamfreesanitarypads 195       \n",
      "#periodpoverty       178       \n",
      "#sanitarypads        153       \n",
      "#pads                138       \n",
      "#endperiodpoverty    136       \n",
      "#womenshealth        133       \n",
      "#cycle               122       \n",
      "#menstruationmatters 121       \n",
      "#menstrual           118       \n",
      "#sanitary            104       \n",
      "#menstrualhygieneday 88        \n",
      "#girl                87        \n",
      "#problemsolving      80        \n",
      "#explorepage         80        \n",
      "#endperiodshaming    79        \n",
      "#menstrualhygiene    73        \n"
     ]
    }
   ],
   "source": [
    "# Create list of all hashtags in dataset\n",
    "hashtags_list = []\n",
    "\n",
    "for tweet in tweets_df['text']:\n",
    "    # Extract hashtags from tweet content\n",
    "    hashtags_temp = [hashtag.lower() for hashtag in re.findall(r'#\\w+', tweet)]\n",
    "    # Append hashtags to list\n",
    "    hashtags_list.extend(hashtags_temp)\n",
    "\n",
    "# Count frequency of each hashtag\n",
    "hashtags_count = Counter(hashtags_list)\n",
    "\n",
    "# Print the top 20 most common hashtags\n",
    "top_n = 20\n",
    "for hashtag, count in hashtags_count.most_common(top_n):\n",
    "    print(f\"{hashtag:<20} {count:<10}\")"
   ]
  },
  {
   "cell_type": "markdown",
   "id": "1231383e",
   "metadata": {},
   "source": [
    "Mentions"
   ]
  },
  {
   "cell_type": "code",
   "execution_count": 10,
   "id": "4082b44b",
   "metadata": {},
   "outputs": [
    {
     "name": "stdout",
     "output_type": "stream",
     "text": [
      "@gloria_orwoba       111       \n",
      "@un_women            25        \n",
      "@heygirlsuk          25        \n",
      "@mhday28may          19        \n",
      "@youtube             19        \n",
      "@tradetoaidorg       19        \n",
      "@sotonbloggers       19        \n",
      "@borobloggers        19        \n",
      "@sincerelyessie      19        \n",
      "@period_poverty      19        \n",
      "@free_sanitary_p     16        \n",
      "@drjengunter         15        \n",
      "@akshaykumar         15        \n",
      "@cdhosabarkantha     14        \n",
      "@djtira              14        \n",
      "@unicef              13        \n",
      "@always              13        \n",
      "@nankunda20          12        \n",
      "@monicalennon7       12        \n",
      "@clue                11        \n"
     ]
    }
   ],
   "source": [
    "# Create list of all hashtags in dataset\n",
    "mentions_list = []\n",
    "\n",
    "for tweet in tweets_df['text']:\n",
    "    # Extract hashtags from tweet content\n",
    "    mentions_temp = [mention.lower() for mention in re.findall(r'@\\w+', tweet)]\n",
    "    # Append hashtags to list\n",
    "    mentions_list.extend(mentions_temp)\n",
    "\n",
    "# Count frequency of each hashtag\n",
    "mentions_count = Counter(mentions_list)\n",
    "\n",
    "# Print the top 20 most common hashtags\n",
    "top_n = 20\n",
    "for mentions, count in mentions_count.most_common(top_n):\n",
    "    print(f\"{mentions:<20} {count:<10}\")"
   ]
  },
  {
   "cell_type": "markdown",
   "id": "fe2cf498",
   "metadata": {},
   "source": [
    "Unigrams (incl. worldcloud w/wo keywords)"
   ]
  },
  {
   "cell_type": "code",
   "execution_count": 11,
   "id": "513e1436",
   "metadata": {},
   "outputs": [],
   "source": [
    "# Creating basic wordcloud without a shape mask\n",
    "#stopwords = set(STOPWORDS)\n",
    "\n",
    "#wordcloud_twitter = WordCloud(background_color = 'white', \n",
    "#                              mode=\"RGBA\", \n",
    "#                              stopwords=stopwords).generate(all_words_lem)\n",
    "# Display the generated Word Cloud\n",
    "#plt.imshow(wordcloud_twitter, interpolation='bilinear')\n",
    "#plt.axis(\"off\")\n",
    "#plt.show()"
   ]
  },
  {
   "cell_type": "code",
   "execution_count": 12,
   "id": "40d808fa",
   "metadata": {},
   "outputs": [],
   "source": [
    "# Making brand logo maskable if not already\n",
    "#mask = np.array(Image.open(\"lymlogo.png\"))\n",
    "\n",
    "#def transform_zeros(val):\n",
    "#    if val == 0:\n",
    "#        return 255\n",
    "#    else:\n",
    "#        return val\n",
    "    \n",
    "#maskable_image = np.ndarray((mask.shape[0],mask.shape[1]), np.int32)\n",
    "\n",
    "#for i in range(len(mask)):\n",
    "#    maskable_image[i] = list(map(transform_zeros, mask[i]))\n",
    "    \n",
    "#mask = maskable_image"
   ]
  },
  {
   "cell_type": "code",
   "execution_count": 13,
   "id": "123f3f52",
   "metadata": {
    "scrolled": true
   },
   "outputs": [
    {
     "data": {
      "image/png": "[encoded data removed]",
      "text/plain": [
       "<Figure size 720x720 with 1 Axes>"
      ]
     },
     "metadata": {
      "needs_background": "light"
     },
     "output_type": "display_data"
    }
   ],
   "source": [
    "# Generate a word cloud image with mask\n",
    "\n",
    "# Join all lemmatized words in a list\n",
    "all_words_lem = ' '.join([word for word in tweets_df['text_lem']])\n",
    "\n",
    "mask = np.array(Image.open(\"lymlogo2.png\"))\n",
    "\n",
    "stopwords = set(STOPWORDS)\n",
    "\n",
    "wordcloud_twitter1 = WordCloud(height=400,\n",
    "                              width=800,\n",
    "                              background_color=\"white\", \n",
    "                              mode=\"RGBA\",\n",
    "                              stopwords=stopwords,\n",
    "                              mask=mask).generate(all_words_lem)\n",
    "\n",
    "# Display the generated Word Cloud\n",
    "image_colors = ImageColorGenerator(mask)\n",
    "plt.figure(figsize=[10,10])\n",
    "plt.imshow(wordcloud_twitter1.recolor(color_func=image_colors), interpolation='bilinear')\n",
    "plt.tight_layout(pad=0)\n",
    "plt.axis(\"off\")\n",
    "plt.show()"
   ]
  },
  {
   "cell_type": "code",
   "execution_count": 14,
   "id": "52ce6cbe",
   "metadata": {},
   "outputs": [],
   "source": [
    "# Generate a word cloud image with mask excluding keywords\n",
    "\n",
    "# List of keywords to remove\n",
    "# *Need to edit this code, the drop function doesn't work all the way throughout\n",
    "#keywords_drop = ['period','cycle','sanitary', 'pads', 'cramps', 'cycle', 'bleed', 'bleeding','poverty', 'menstruate','menstruation','menstrual','menses', 'menstruates', 'menstruated', 'menstruating', 'menstruous','premenstrual','postmenstrual', 'menopause','PMS', 'PMDD', 'endometriosis', 'fibroids', 'tampon', 'tampons']\n",
    "\n",
    "# Remove all the words in the list of keywords\n",
    "#processed_words_lem = \"\"\n",
    "#for word in all_words_lem.split():\n",
    "#    if word not in keywords_drop:\n",
    "#        processed_words_lem += word + \" \"\n",
    "\n",
    "#processed_words_lem = processed_words_lem.strip()\n",
    "\n",
    "#wordcloud_twitter2 = WordCloud(height=400,\n",
    "#                              width=800,\n",
    "#                              background_color=\"white\", \n",
    "#                              mode=\"RGBA\",\n",
    "#                              stopwords=stopwords,\n",
    "#                              mask=mask).generate(processed_words_lem)\n",
    "\n",
    "# Display the generated Word Cloud\n",
    "#image_colors = ImageColorGenerator(mask)\n",
    "#plt.figure(figsize=[10,10])\n",
    "#plt.imshow(wordcloud_twitter1.recolor(color_func=image_colors), interpolation='bilinear')\n",
    "#plt.tight_layout(pad=0)\n",
    "#plt.axis(\"off\")\n",
    "#plt.show()"
   ]
  },
  {
   "cell_type": "markdown",
   "id": "428493d9",
   "metadata": {},
   "source": [
    "Bi-grams"
   ]
  },
  {
   "cell_type": "code",
   "execution_count": 15,
   "id": "6dacfcc1",
   "metadata": {},
   "outputs": [
    {
     "name": "stdout",
     "output_type": "stream",
     "text": [
      "sanitary pads 4319\n",
      "period poverty 2637\n",
      "sanitary products 683\n",
      "free sanitary 571\n",
      "menstrual hygiene 528\n",
      "end period 525\n",
      "cycle period 459\n",
      "reusable sanitary 395\n",
      "pads tampons 374\n",
      "period menstrual 350\n",
      "got period 299\n",
      "menstrual cups 297\n",
      "menstrual period 294\n",
      "birth control 292\n",
      "period cycle 260\n",
      "young girls 255\n",
      "women girls 254\n",
      "menstruation cycle 243\n",
      "afford sanitary 239\n"
     ]
    }
   ],
   "source": [
    "def get_top_n_bigram(corpus, n=None):\n",
    "    vec = CountVectorizer(ngram_range=(2, 2), stop_words='english').fit(corpus)\n",
    "    bag_of_words = vec.transform(corpus)\n",
    "    sum_words = bag_of_words.sum(axis=0) \n",
    "    words_freq = [(word, sum_words[0, idx]) for word, idx in vec.vocabulary_.items()]\n",
    "    words_freq = sorted(words_freq, key = lambda x: x[1], reverse=True)\n",
    "    return words_freq[:n]\n",
    "\n",
    "bigrams_list = get_top_n_bigram(tweets_df['processed_text'], 20)\n",
    "bigrams_list = bigrams_list[1:]\n",
    "\n",
    "for word, freq in bigrams_list:\n",
    "    print(word, freq)"
   ]
  },
  {
   "cell_type": "code",
   "execution_count": 16,
   "id": "0383d81a",
   "metadata": {},
   "outputs": [],
   "source": [
    "# Top bigrams excluding keywords\n",
    "# bigrams_list2 = get_top_n_bigram(tweets_df['processed_text'], 50)\n",
    "# bigrams_list2 = bigrams_list2[1:]\n",
    "\n",
    "# to_drop = ['period cycle','sanitary pads', 'my period', 'your period', 'period cramps', 'period cycle', 'period bleed', 'period bleeding','period poverty''menstruate','menstruation','menstrual','menses', 'menstruates', 'menstruated', 'menstruating', 'menstruous','premenstrual','postmenstrual', 'menopause','PMS', 'PMDD', 'endometriosis', 'fibroids', 'tampon', 'tampons']\n",
    "\n",
    "\n",
    "#for word, freq in bigrams_list2:\n",
    "#    print(word, freq)"
   ]
  },
  {
   "cell_type": "markdown",
   "id": "70746177",
   "metadata": {},
   "source": [
    "Tri-grams"
   ]
  },
  {
   "cell_type": "code",
   "execution_count": 17,
   "id": "15bfeec7",
   "metadata": {},
   "outputs": [
    {
     "name": "stdout",
     "output_type": "stream",
     "text": [
      "end period poverty 487\n",
      "free sanitary pads 441\n",
      "reusable sanitary pads 351\n",
      "menstrual cycle period 338\n",
      "period menstrual cycle 317\n",
      "afford sanitary pads 176\n",
      "team free sanitary 175\n",
      "sanitary pads tampons 167\n",
      "access sanitary pads 164\n",
      "eradicate period poverty 143\n",
      "sanitary pads girls 139\n",
      "sanitary pads menstrual 129\n",
      "buy sanitary pads 125\n",
      "ending period poverty 114\n",
      "menstrual cycle just 113\n",
      "sanitary pads period 113\n",
      "tackle period poverty 112\n",
      "fight period poverty 111\n",
      "tampons sanitary pads 109\n",
      "periods menstrual cycle 108\n"
     ]
    }
   ],
   "source": [
    "# Top trigrams\n",
    "def get_top_n_trigram(corpus, n=None):\n",
    "    vec = CountVectorizer(ngram_range=(3, 3), stop_words='english').fit(corpus)\n",
    "    bag_of_words = vec.transform(corpus)\n",
    "    sum_words = bag_of_words.sum(axis=0) \n",
    "    words_freq = [(word, sum_words[0, idx]) for word, idx in vec.vocabulary_.items()]\n",
    "    words_freq = sorted(words_freq, key = lambda x: x[1], reverse=True)\n",
    "    return words_freq[:n]\n",
    "\n",
    "trigrams_list = get_top_n_trigram(tweets_df['processed_text'], 20)\n",
    "\n",
    "for word, freq in trigrams_list:\n",
    "    print(word, freq)"
   ]
  },
  {
   "cell_type": "code",
   "execution_count": 18,
   "id": "af9c1b58",
   "metadata": {},
   "outputs": [],
   "source": [
    "# Export pre-processed data for analysis\n",
    "tweets_df.to_csv(\"tweet_processed\")"
   ]
  }
 ],
 "metadata": {
  "kernelspec": {
   "display_name": "Python 3 (ipykernel)",
   "language": "python",
   "name": "python3"
  },
  "language_info": {
   "codemirror_mode": {
    "name": "ipython",
    "version": 3
   },
   "file_extension": ".py",
   "mimetype": "text/x-python",
   "name": "python",
   "nbconvert_exporter": "python",
   "pygments_lexer": "ipython3",
   "version": "3.9.7"
  }
 },
 "nbformat": 4,
 "nbformat_minor": 5
}
