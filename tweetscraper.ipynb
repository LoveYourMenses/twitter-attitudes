{
 "cells": [
  {
   "cell_type": "markdown",
   "id": "c2662f51",
   "metadata": {},
   "source": [
    "Notebook for Tweet Scraper"
   ]
  },
  {
   "cell_type": "code",
   "execution_count": null,
   "id": "ea983f09",
   "metadata": {},
   "outputs": [],
   "source": [
    "#install snscrape package, uncomment if not installed\n",
    "#!pip install git+https://github.com/JustAnotherArchivist/snscrape.git"
   ]
  },
  {
   "cell_type": "code",
   "execution_count": 1,
   "id": "26e5181a",
   "metadata": {},
   "outputs": [],
   "source": [
    "#import libraries\n",
    "import snscrape.modules.twitter as sntwitter\n",
    "import pandas as pd\n",
    "import numpy as np\n",
    "import re"
   ]
  },
  {
   "cell_type": "code",
   "execution_count": 14,
   "id": "450e85cf",
   "metadata": {},
   "outputs": [],
   "source": [
    "pd.set_option('display.max_colwidth', None)"
   ]
  },
  {
   "cell_type": "code",
   "execution_count": 7,
   "id": "098d342b",
   "metadata": {
    "scrolled": true
   },
   "outputs": [],
   "source": [
    "# Setting variables to be used below\n",
    "maxTweets = 100\n",
    "keywords_list = ['period cycle','sanitary pads', 'my period', 'your period', 'period cramps', 'period cycle', 'period bleed', 'period bleeding','period poverty''menstruate','menstruation','menstrual','menses', 'menstruates', 'menstruated', 'menstruating', 'menstruous','premenstrual','postmenstrual', 'menopause','PMS', 'PMDD', 'endometriosis', 'fibroids', 'tampon', 'tampons']\n",
    "# OR operator to join search terms\n",
    "keywords = ' OR '.join(keywords_list)\n",
    "\n",
    "# Creating list to append tweet data to\n",
    "tweets_list = []\n",
    "\n",
    "# Using TwitterSearchScraper to scrape data and append tweets to list\n",
    "for i,tweet in enumerate(sntwitter.TwitterSearchScraper(keywords + 'since:2023-03-01 until:2023-03-02 lang:en').get_items()):\n",
    "    if i>maxTweets:\n",
    "        break\n",
    "    tweets_list.append([tweet.id, tweet.rawContent])"
   ]
  },
  {
   "cell_type": "code",
   "execution_count": 15,
   "id": "05e311ad",
   "metadata": {},
   "outputs": [
    {
     "data": {
      "text/html": [
       "<div>\n",
       "<style scoped>\n",
       "    .dataframe tbody tr th:only-of-type {\n",
       "        vertical-align: middle;\n",
       "    }\n",
       "\n",
       "    .dataframe tbody tr th {\n",
       "        vertical-align: top;\n",
       "    }\n",
       "\n",
       "    .dataframe thead th {\n",
       "        text-align: right;\n",
       "    }\n",
       "</style>\n",
       "<table border=\"1\" class=\"dataframe\">\n",
       "  <thead>\n",
       "    <tr style=\"text-align: right;\">\n",
       "      <th></th>\n",
       "      <th>tweet_id</th>\n",
       "      <th>text</th>\n",
       "    </tr>\n",
       "  </thead>\n",
       "  <tbody>\n",
       "    <tr>\n",
       "      <th>0</th>\n",
       "      <td>1630989944289398784</td>\n",
       "      <td>I \"think\" I started my menstrual cycle yesterday, but due to the ablation surgery working, I'm not bleeding at all!\\n\\nIt's really bizarre and cool! I have always been regular, so I can track that it's the right time. But the period part of it is just not there at all. (One still…</td>\n",
       "    </tr>\n",
       "    <tr>\n",
       "      <th>1</th>\n",
       "      <td>1630974067875381265</td>\n",
       "      <td>cw menstruation ////\\n.\\n.\\n.\\ni have had my period for over 15 years. my cycle has always been over a month. when will my brain stop convincing myself that i’m pregnant every time i hit day 29 of my cycle.</td>\n",
       "    </tr>\n",
       "    <tr>\n",
       "      <th>2</th>\n",
       "      <td>1630965437709053952</td>\n",
       "      <td>Clubs must ensure that they enhance supportive measures to our women on matters Menstrual Health Hygiene Management (MHM) including period tracking, free sanitary pads, MHM talks internally and with health experts, etc.\\n\\n#PlayersWelfareKE https://t.co/WyOkrwc8Wh</td>\n",
       "    </tr>\n",
       "    <tr>\n",
       "      <th>3</th>\n",
       "      <td>1630878576538013696</td>\n",
       "      <td>#EndPeriodShaming\\nI used to think it was a normal narrative until I saw an orphan girl somewhere in the village who couldn't afford menstrual tools for her cycle and she was like \"I wish I was a boy, I wish I had parents\"😭\\nPads bring girls back to school. Pads end period poverty</td>\n",
       "    </tr>\n",
       "    <tr>\n",
       "      <th>4</th>\n",
       "      <td>1630863346143580161</td>\n",
       "      <td>Let’s push for ending period stigma, period poverty, provision of free and affordable sanitary pads, and open education on healthy, safe and dignified menstrual practices.\\n#KeepGirlsInSchool #EducationForAll #EndPeriodPoverty \\n#EndMenstrualStigma https://t.co/Ri7uMMjQwP</td>\n",
       "    </tr>\n",
       "  </tbody>\n",
       "</table>\n",
       "</div>"
      ],
      "text/plain": [
       "              tweet_id  \\\n",
       "0  1630989944289398784   \n",
       "1  1630974067875381265   \n",
       "2  1630965437709053952   \n",
       "3  1630878576538013696   \n",
       "4  1630863346143580161   \n",
       "\n",
       "                                                                                                                                                                                                                                                                                        text  \n",
       "0  I \"think\" I started my menstrual cycle yesterday, but due to the ablation surgery working, I'm not bleeding at all!\\n\\nIt's really bizarre and cool! I have always been regular, so I can track that it's the right time. But the period part of it is just not there at all. (One still…  \n",
       "1                                                                             cw menstruation ////\\n.\\n.\\n.\\ni have had my period for over 15 years. my cycle has always been over a month. when will my brain stop convincing myself that i’m pregnant every time i hit day 29 of my cycle.  \n",
       "2                   Clubs must ensure that they enhance supportive measures to our women on matters Menstrual Health Hygiene Management (MHM) including period tracking, free sanitary pads, MHM talks internally and with health experts, etc.\\n\\n#PlayersWelfareKE https://t.co/WyOkrwc8Wh  \n",
       "3  #EndPeriodShaming\\nI used to think it was a normal narrative until I saw an orphan girl somewhere in the village who couldn't afford menstrual tools for her cycle and she was like \"I wish I was a boy, I wish I had parents\"😭\\nPads bring girls back to school. Pads end period poverty  \n",
       "4           Let’s push for ending period stigma, period poverty, provision of free and affordable sanitary pads, and open education on healthy, safe and dignified menstrual practices.\\n#KeepGirlsInSchool #EducationForAll #EndPeriodPoverty \\n#EndMenstrualStigma https://t.co/Ri7uMMjQwP  "
      ]
     },
     "execution_count": 15,
     "metadata": {},
     "output_type": "execute_result"
    }
   ],
   "source": [
    "# Creating a dataframe from the tweets list above\n",
    "tweets_df = pd.DataFrame(tweets_list, columns=['tweet_id', 'text'])\n",
    "\n",
    "# Display first 5 entries from dataframe\n",
    "tweets_df.head()"
   ]
  },
  {
   "cell_type": "code",
   "execution_count": 13,
   "id": "f395b1e1",
   "metadata": {},
   "outputs": [],
   "source": [
    "tweets_df.to_csv(\"dummy data\")"
   ]
  },
  {
   "cell_type": "code",
   "execution_count": null,
   "id": "59a5ec39",
   "metadata": {},
   "outputs": [],
   "source": []
  }
 ],
 "metadata": {
  "kernelspec": {
   "display_name": "Python 3 (ipykernel)",
   "language": "python",
   "name": "python3"
  },
  "language_info": {
   "codemirror_mode": {
    "name": "ipython",
    "version": 3
   },
   "file_extension": ".py",
   "mimetype": "text/x-python",
   "name": "python",
   "nbconvert_exporter": "python",
   "pygments_lexer": "ipython3",
   "version": "3.9.7"
  }
 },
 "nbformat": 4,
 "nbformat_minor": 5
}
