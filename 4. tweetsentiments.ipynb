{
 "cells": [
  {
   "cell_type": "markdown",
   "id": "0c2975b9",
   "metadata": {},
   "source": [
    "Notebook for Twitter Sentiment Analysis"
   ]
  },
  {
   "cell_type": "code",
   "execution_count": 1,
   "id": "2a5a0d20",
   "metadata": {},
   "outputs": [
    {
     "name": "stderr",
     "output_type": "stream",
     "text": [
      "[nltk_data] Downloading package vader_lexicon to\n",
      "[nltk_data]     /Users/jacksonfuller/nltk_data...\n",
      "[nltk_data]   Package vader_lexicon is already up-to-date!\n"
     ]
    }
   ],
   "source": [
    "import nltk\n",
    "import pandas as pd\n",
    "from nltk.sentiment.vader import SentimentIntensityAnalyzer\n",
    "\n",
    "nltk.download('vader_lexicon')\n",
    "sid = SentimentIntensityAnalyzer()"
   ]
  },
  {
   "cell_type": "code",
   "execution_count": 2,
   "id": "752a0db4",
   "metadata": {},
   "outputs": [
    {
     "data": {
      "text/html": [
       "<div>\n",
       "<style scoped>\n",
       "    .dataframe tbody tr th:only-of-type {\n",
       "        vertical-align: middle;\n",
       "    }\n",
       "\n",
       "    .dataframe tbody tr th {\n",
       "        vertical-align: top;\n",
       "    }\n",
       "\n",
       "    .dataframe thead th {\n",
       "        text-align: right;\n",
       "    }\n",
       "</style>\n",
       "<table border=\"1\" class=\"dataframe\">\n",
       "  <thead>\n",
       "    <tr style=\"text-align: right;\">\n",
       "      <th></th>\n",
       "      <th>Unnamed: 0</th>\n",
       "      <th>Unnamed: 0.1</th>\n",
       "      <th>Unnamed: 0.1.1</th>\n",
       "      <th>tweet_id</th>\n",
       "      <th>text</th>\n",
       "      <th>processed_text</th>\n",
       "      <th>stripped_text</th>\n",
       "      <th>text_lem</th>\n",
       "      <th>text_tokens</th>\n",
       "      <th>cluster</th>\n",
       "      <th>topic_name</th>\n",
       "    </tr>\n",
       "  </thead>\n",
       "  <tbody>\n",
       "    <tr>\n",
       "      <th>0</th>\n",
       "      <td>0</td>\n",
       "      <td>0</td>\n",
       "      <td>0</td>\n",
       "      <td>1630989944289398784</td>\n",
       "      <td>I \"think\" I started my menstrual cycle yesterday, but due to the ablation surgery working, I'm not bleeding at all!\\n\\nIt's really bizarre and cool! I have always been regular, so I can track that it's the right time. But the period part of it is just not there at all. (One still…</td>\n",
       "      <td>i \"think\" i started my menstrual cycle yesterday, but due to the ablation surgery working, i am not bleeding at all! it is really bizarre and cool! i have always been regular, so i can track that it is the right time. but the period part of it is just not there at all. (one still…</td>\n",
       "      <td>think started menstrual cycle yesterday due ablation surgery working bleeding really bizarre cool always regular track right time period part one still…</td>\n",
       "      <td>think started menstrual cycle yesterday due ablation surgery working bleeding really bizarre cool always regular track right time period part one still…</td>\n",
       "      <td>['think', 'started', 'menstrual', 'cycle', 'yesterday', 'due', 'ablation', 'surgery', 'working', 'bleeding', 'really', 'bizarre', 'cool', 'always', 'regular', 'track', 'right', 'time', 'period', 'part', 'one', 'still…']</td>\n",
       "      <td>0</td>\n",
       "      <td>topic 0</td>\n",
       "    </tr>\n",
       "    <tr>\n",
       "      <th>1</th>\n",
       "      <td>1</td>\n",
       "      <td>1</td>\n",
       "      <td>1</td>\n",
       "      <td>1630974067875381265</td>\n",
       "      <td>cw menstruation ////\\n.\\n.\\n.\\ni have had my period for over 15 years. my cycle has always been over a month. when will my brain stop convincing myself that i’m pregnant every time i hit day 29 of my cycle.</td>\n",
       "      <td>cw menstruation //// . . . i have had my period for over 15 years. my cycle has always been over a month. when will my brain stop convincing myself that i am pregnant every time i hit day 29 of my cycle.</td>\n",
       "      <td>menstruation period years cycle always month will brain stop convincing pregnant every time hit day cycle</td>\n",
       "      <td>menstruation period years cycle always month will brain stop convincing pregnant every time hit day cycle</td>\n",
       "      <td>['menstruation', 'period', 'years', 'cycle', 'always', 'month', 'will', 'brain', 'stop', 'convincing', 'pregnant', 'every', 'time', 'hit', 'day', 'cycle']</td>\n",
       "      <td>0</td>\n",
       "      <td>topic 0</td>\n",
       "    </tr>\n",
       "    <tr>\n",
       "      <th>2</th>\n",
       "      <td>2</td>\n",
       "      <td>2</td>\n",
       "      <td>2</td>\n",
       "      <td>1630965437709053952</td>\n",
       "      <td>Clubs must ensure that they enhance supportive measures to our women on matters Menstrual Health Hygiene Management (MHM) including period tracking, free sanitary pads, MHM talks internally and with health experts, etc.\\n\\n#PlayersWelfareKE https://t.co/WyOkrwc8Wh</td>\n",
       "      <td>clubs must ensure that they enhance supportive measures to our women on matters menstrual health hygiene management (mhm) including period tracking, free sanitary pads, mhm talks internally and with health experts, etc.</td>\n",
       "      <td>clubs must ensure enhance supportive measures women matters menstrual health hygiene management mhm including period tracking free sanitary pads mhm talks internally health experts etc</td>\n",
       "      <td>clubs must ensure enhance supportive measures women matters menstrual health hygiene management mhm including period tracking free sanitary pads mhm talks internally health experts etc</td>\n",
       "      <td>['clubs', 'must', 'ensure', 'enhance', 'supportive', 'measures', 'women', 'matters', 'menstrual', 'health', 'hygiene', 'management', 'mhm', 'including', 'period', 'tracking', 'free', 'sanitary', 'pads', 'mhm', 'talks', 'internally', 'health', 'experts', 'etc']</td>\n",
       "      <td>0</td>\n",
       "      <td>topic 0</td>\n",
       "    </tr>\n",
       "    <tr>\n",
       "      <th>3</th>\n",
       "      <td>3</td>\n",
       "      <td>3</td>\n",
       "      <td>3</td>\n",
       "      <td>1630878576538013696</td>\n",
       "      <td>#EndPeriodShaming\\nI used to think it was a normal narrative until I saw an orphan girl somewhere in the village who couldn't afford menstrual tools for her cycle and she was like \"I wish I was a boy, I wish I had parents\"😭\\nPads bring girls back to school. Pads end period poverty</td>\n",
       "      <td>i used to think it was a normal narrative until i saw an orphan girl somewhere in the village who could not afford menstrual tools for her cycle and she was like \"i wish i was a boy, i wish i had parents\"😭 pads bring girls back to school. pads end period poverty</td>\n",
       "      <td>used think normal narrative saw orphan girl somewhere village afford menstrual tools cycle wish boy wish parents pads bring girls back school pads end period poverty</td>\n",
       "      <td>used think normal narrative saw orphan girl somewhere village afford menstrual tools cycle wish boy wish parents pads bring girls back school pads end period poverty</td>\n",
       "      <td>['used', 'think', 'normal', 'narrative', 'saw', 'orphan', 'girl', 'somewhere', 'village', 'afford', 'menstrual', 'tools', 'cycle', 'wish', 'boy', 'wish', 'parents', 'pads', 'bring', 'girls', 'back', 'school', 'pads', 'end', 'period', 'poverty']</td>\n",
       "      <td>0</td>\n",
       "      <td>topic 0</td>\n",
       "    </tr>\n",
       "    <tr>\n",
       "      <th>4</th>\n",
       "      <td>4</td>\n",
       "      <td>4</td>\n",
       "      <td>4</td>\n",
       "      <td>1630863346143580161</td>\n",
       "      <td>Let’s push for ending period stigma, period poverty, provision of free and affordable sanitary pads, and open education on healthy, safe and dignified menstrual practices.\\n#KeepGirlsInSchool #EducationForAll #EndPeriodPoverty \\n#EndMenstrualStigma https://t.co/Ri7uMMjQwP</td>\n",
       "      <td>let us push for ending period stigma, period poverty, provision of free and affordable sanitary pads, and open education on healthy, safe and dignified menstrual practices.</td>\n",
       "      <td>let push ending period stigma period poverty provision free affordable sanitary pads open education healthy safe dignified menstrual practices</td>\n",
       "      <td>let push ending period stigma period poverty provision free affordable sanitary pads open education healthy safe dignified menstrual practices</td>\n",
       "      <td>['let', 'push', 'ending', 'period', 'stigma', 'period', 'poverty', 'provision', 'free', 'affordable', 'sanitary', 'pads', 'open', 'education', 'healthy', 'safe', 'dignified', 'menstrual', 'practices']</td>\n",
       "      <td>0</td>\n",
       "      <td>topic 0</td>\n",
       "    </tr>\n",
       "  </tbody>\n",
       "</table>\n",
       "</div>"
      ],
      "text/plain": [
       "   Unnamed: 0  Unnamed: 0.1  Unnamed: 0.1.1             tweet_id  \\\n",
       "0           0             0               0  1630989944289398784   \n",
       "1           1             1               1  1630974067875381265   \n",
       "2           2             2               2  1630965437709053952   \n",
       "3           3             3               3  1630878576538013696   \n",
       "4           4             4               4  1630863346143580161   \n",
       "\n",
       "                                                                                                                                                                                                                                                                                        text  \\\n",
       "0  I \"think\" I started my menstrual cycle yesterday, but due to the ablation surgery working, I'm not bleeding at all!\\n\\nIt's really bizarre and cool! I have always been regular, so I can track that it's the right time. But the period part of it is just not there at all. (One still…   \n",
       "1                                                                             cw menstruation ////\\n.\\n.\\n.\\ni have had my period for over 15 years. my cycle has always been over a month. when will my brain stop convincing myself that i’m pregnant every time i hit day 29 of my cycle.   \n",
       "2                   Clubs must ensure that they enhance supportive measures to our women on matters Menstrual Health Hygiene Management (MHM) including period tracking, free sanitary pads, MHM talks internally and with health experts, etc.\\n\\n#PlayersWelfareKE https://t.co/WyOkrwc8Wh   \n",
       "3  #EndPeriodShaming\\nI used to think it was a normal narrative until I saw an orphan girl somewhere in the village who couldn't afford menstrual tools for her cycle and she was like \"I wish I was a boy, I wish I had parents\"😭\\nPads bring girls back to school. Pads end period poverty   \n",
       "4           Let’s push for ending period stigma, period poverty, provision of free and affordable sanitary pads, and open education on healthy, safe and dignified menstrual practices.\\n#KeepGirlsInSchool #EducationForAll #EndPeriodPoverty \\n#EndMenstrualStigma https://t.co/Ri7uMMjQwP   \n",
       "\n",
       "                                                                                                                                                                                                                                                                              processed_text  \\\n",
       "0  i \"think\" i started my menstrual cycle yesterday, but due to the ablation surgery working, i am not bleeding at all! it is really bizarre and cool! i have always been regular, so i can track that it is the right time. but the period part of it is just not there at all. (one still…   \n",
       "1                                                                                cw menstruation //// . . . i have had my period for over 15 years. my cycle has always been over a month. when will my brain stop convincing myself that i am pregnant every time i hit day 29 of my cycle.   \n",
       "2                                                               clubs must ensure that they enhance supportive measures to our women on matters menstrual health hygiene management (mhm) including period tracking, free sanitary pads, mhm talks internally and with health experts, etc.    \n",
       "3                     i used to think it was a normal narrative until i saw an orphan girl somewhere in the village who could not afford menstrual tools for her cycle and she was like \"i wish i was a boy, i wish i had parents\"😭 pads bring girls back to school. pads end period poverty   \n",
       "4                                                                                                              let us push for ending period stigma, period poverty, provision of free and affordable sanitary pads, and open education on healthy, safe and dignified menstrual practices.    \n",
       "\n",
       "                                                                                                                                                                              stripped_text  \\\n",
       "0                                  think started menstrual cycle yesterday due ablation surgery working bleeding really bizarre cool always regular track right time period part one still…   \n",
       "1                                                                                 menstruation period years cycle always month will brain stop convincing pregnant every time hit day cycle   \n",
       "2  clubs must ensure enhance supportive measures women matters menstrual health hygiene management mhm including period tracking free sanitary pads mhm talks internally health experts etc   \n",
       "3                     used think normal narrative saw orphan girl somewhere village afford menstrual tools cycle wish boy wish parents pads bring girls back school pads end period poverty   \n",
       "4                                            let push ending period stigma period poverty provision free affordable sanitary pads open education healthy safe dignified menstrual practices   \n",
       "\n",
       "                                                                                                                                                                                   text_lem  \\\n",
       "0                                  think started menstrual cycle yesterday due ablation surgery working bleeding really bizarre cool always regular track right time period part one still…   \n",
       "1                                                                                 menstruation period years cycle always month will brain stop convincing pregnant every time hit day cycle   \n",
       "2  clubs must ensure enhance supportive measures women matters menstrual health hygiene management mhm including period tracking free sanitary pads mhm talks internally health experts etc   \n",
       "3                     used think normal narrative saw orphan girl somewhere village afford menstrual tools cycle wish boy wish parents pads bring girls back school pads end period poverty   \n",
       "4                                            let push ending period stigma period poverty provision free affordable sanitary pads open education healthy safe dignified menstrual practices   \n",
       "\n",
       "                                                                                                                                                                                                                                                            text_tokens  \\\n",
       "0                                           ['think', 'started', 'menstrual', 'cycle', 'yesterday', 'due', 'ablation', 'surgery', 'working', 'bleeding', 'really', 'bizarre', 'cool', 'always', 'regular', 'track', 'right', 'time', 'period', 'part', 'one', 'still…']   \n",
       "1                                                                                                            ['menstruation', 'period', 'years', 'cycle', 'always', 'month', 'will', 'brain', 'stop', 'convincing', 'pregnant', 'every', 'time', 'hit', 'day', 'cycle']   \n",
       "2  ['clubs', 'must', 'ensure', 'enhance', 'supportive', 'measures', 'women', 'matters', 'menstrual', 'health', 'hygiene', 'management', 'mhm', 'including', 'period', 'tracking', 'free', 'sanitary', 'pads', 'mhm', 'talks', 'internally', 'health', 'experts', 'etc']   \n",
       "3                  ['used', 'think', 'normal', 'narrative', 'saw', 'orphan', 'girl', 'somewhere', 'village', 'afford', 'menstrual', 'tools', 'cycle', 'wish', 'boy', 'wish', 'parents', 'pads', 'bring', 'girls', 'back', 'school', 'pads', 'end', 'period', 'poverty']   \n",
       "4                                                              ['let', 'push', 'ending', 'period', 'stigma', 'period', 'poverty', 'provision', 'free', 'affordable', 'sanitary', 'pads', 'open', 'education', 'healthy', 'safe', 'dignified', 'menstrual', 'practices']   \n",
       "\n",
       "   cluster topic_name  \n",
       "0        0    topic 0  \n",
       "1        0    topic 0  \n",
       "2        0    topic 0  \n",
       "3        0    topic 0  \n",
       "4        0    topic 0  "
      ]
     },
     "execution_count": 2,
     "metadata": {},
     "output_type": "execute_result"
    }
   ],
   "source": [
    "pd.set_option('display.max_colwidth', None)\n",
    "\n",
    "# Import dataset\n",
    "tweets_df = pd.read_csv('dummy data_topics')\n",
    "tweets_df.head()"
   ]
  },
  {
   "cell_type": "code",
   "execution_count": 3,
   "id": "02ae68dd",
   "metadata": {
    "scrolled": true
   },
   "outputs": [
    {
     "data": {
      "text/plain": [
       "count    101.000000\n",
       "mean       0.049209\n",
       "std        0.549141\n",
       "min       -0.974700\n",
       "25%       -0.378600\n",
       "50%        0.000000\n",
       "75%        0.526700\n",
       "max        0.920100\n",
       "Name: vader_polarity, dtype: float64"
      ]
     },
     "execution_count": 3,
     "metadata": {},
     "output_type": "execute_result"
    }
   ],
   "source": [
    "tweets_df['vader_polarity'] = tweets_df['processed_text'].map(\n",
    "    lambda text: sid.polarity_scores(text)['compound'])   \n",
    "\n",
    "# Overall tweet sentiment description of dataset\n",
    "# Note sentiments are scored ona scale of -1 to +1 with -1 being the most negative sentiments, 0 being neutral, and +1 being the most positive sentiments\n",
    "tweets_df['vader_polarity'].describe()"
   ]
  },
  {
   "cell_type": "code",
   "execution_count": 4,
   "id": "dc8a1231",
   "metadata": {
    "scrolled": true
   },
   "outputs": [
    {
     "data": {
      "text/plain": [
       "count    101.000000\n",
       "mean       0.049209\n",
       "std        0.549141\n",
       "min       -0.974700\n",
       "25%       -0.378600\n",
       "50%        0.000000\n",
       "75%        0.526700\n",
       "max        0.920100\n",
       "Name: vader_polarity, dtype: float64"
      ]
     },
     "execution_count": 4,
     "metadata": {},
     "output_type": "execute_result"
    }
   ],
   "source": [
    "tweets_df['vader_polarity'].describe()"
   ]
  },
  {
   "cell_type": "code",
   "execution_count": 5,
   "id": "e4107c71",
   "metadata": {},
   "outputs": [
    {
     "data": {
      "text/html": [
       "<div>\n",
       "<style scoped>\n",
       "    .dataframe tbody tr th:only-of-type {\n",
       "        vertical-align: middle;\n",
       "    }\n",
       "\n",
       "    .dataframe tbody tr th {\n",
       "        vertical-align: top;\n",
       "    }\n",
       "\n",
       "    .dataframe thead th {\n",
       "        text-align: right;\n",
       "    }\n",
       "</style>\n",
       "<table border=\"1\" class=\"dataframe\">\n",
       "  <thead>\n",
       "    <tr style=\"text-align: right;\">\n",
       "      <th></th>\n",
       "      <th>count</th>\n",
       "      <th>mean</th>\n",
       "      <th>std</th>\n",
       "      <th>min</th>\n",
       "      <th>25%</th>\n",
       "      <th>50%</th>\n",
       "      <th>75%</th>\n",
       "      <th>max</th>\n",
       "    </tr>\n",
       "    <tr>\n",
       "      <th>topic_name</th>\n",
       "      <th></th>\n",
       "      <th></th>\n",
       "      <th></th>\n",
       "      <th></th>\n",
       "      <th></th>\n",
       "      <th></th>\n",
       "      <th></th>\n",
       "      <th></th>\n",
       "    </tr>\n",
       "  </thead>\n",
       "  <tbody>\n",
       "    <tr>\n",
       "      <th>topic 0</th>\n",
       "      <td>100.0</td>\n",
       "      <td>0.055816</td>\n",
       "      <td>0.547858</td>\n",
       "      <td>-0.9747</td>\n",
       "      <td>-0.37365</td>\n",
       "      <td>0.0000</td>\n",
       "      <td>0.534375</td>\n",
       "      <td>0.9201</td>\n",
       "    </tr>\n",
       "    <tr>\n",
       "      <th>topic 9</th>\n",
       "      <td>1.0</td>\n",
       "      <td>-0.611500</td>\n",
       "      <td>NaN</td>\n",
       "      <td>-0.6115</td>\n",
       "      <td>-0.61150</td>\n",
       "      <td>-0.6115</td>\n",
       "      <td>-0.611500</td>\n",
       "      <td>-0.6115</td>\n",
       "    </tr>\n",
       "  </tbody>\n",
       "</table>\n",
       "</div>"
      ],
      "text/plain": [
       "            count      mean       std     min      25%     50%       75%  \\\n",
       "topic_name                                                                 \n",
       "topic 0     100.0  0.055816  0.547858 -0.9747 -0.37365  0.0000  0.534375   \n",
       "topic 9       1.0 -0.611500       NaN -0.6115 -0.61150 -0.6115 -0.611500   \n",
       "\n",
       "               max  \n",
       "topic_name          \n",
       "topic 0     0.9201  \n",
       "topic 9    -0.6115  "
      ]
     },
     "execution_count": 5,
     "metadata": {},
     "output_type": "execute_result"
    }
   ],
   "source": [
    "# Grouping tweets by topic\n",
    "tweets_df.groupby('topic_name')['vader_polarity'].describe()"
   ]
  }
 ],
 "metadata": {
  "kernelspec": {
   "display_name": "Python 3 (ipykernel)",
   "language": "python",
   "name": "python3"
  },
  "language_info": {
   "codemirror_mode": {
    "name": "ipython",
    "version": 3
   },
   "file_extension": ".py",
   "mimetype": "text/x-python",
   "name": "python",
   "nbconvert_exporter": "python",
   "pygments_lexer": "ipython3",
   "version": "3.9.7"
  }
 },
 "nbformat": 4,
 "nbformat_minor": 5
}
