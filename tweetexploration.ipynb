{
 "cells": [
  {
   "cell_type": "markdown",
   "id": "4091f0b3",
   "metadata": {},
   "source": [
    "Notebook for Tweet Cleaning and Initial Exploration"
   ]
  },
  {
   "cell_type": "code",
   "execution_count": 1,
   "id": "9247e6e8",
   "metadata": {
    "scrolled": true
   },
   "outputs": [],
   "source": [
    "# Installing packages\n",
    "#!pip install wordcloud\n",
    "#!pip install plotly\n",
    "#!pip install contractions"
   ]
  },
  {
   "cell_type": "code",
   "execution_count": 2,
   "id": "5aa1f58b",
   "metadata": {},
   "outputs": [],
   "source": [
    "# Import packages\n",
    "import re\n",
    "import string\n",
    "import collections\n",
    "import contractions\n",
    "import ipywidgets\n",
    "import nltk.tokenize\n",
    "import emoji\n",
    "\n",
    "import plotly.offline as py\n",
    "import plotly.express as px\n",
    "import plotly.graph_objects as go\n",
    "import pandas as pd\n",
    "import matplotlib.pyplot as plt\n",
    "import matplotlib.font_manager as fm\n",
    "import numpy as np\n",
    "\n",
    "from sklearn.feature_extraction.text import CountVectorizer\n",
    "from nltk.tokenize import RegexpTokenizer\n",
    "from nltk.tokenize import word_tokenize\n",
    "from nltk.probability import FreqDist\n",
    "from nltk.stem import WordNetLemmatizer\n",
    "from nltk.corpus import stopwords\n",
    "from wordcloud import WordCloud, STOPWORDS, ImageColorGenerator\n",
    "from PIL import Image\n",
    "from collections import Counter"
   ]
  },
  {
   "cell_type": "code",
   "execution_count": 3,
   "id": "29c7ec05",
   "metadata": {},
   "outputs": [
    {
     "name": "stderr",
     "output_type": "stream",
     "text": [
      "[nltk_data] Downloading package stopwords to\n",
      "[nltk_data]     /Users/jacksonfuller/nltk_data...\n",
      "[nltk_data]   Package stopwords is already up-to-date!\n",
      "[nltk_data] Downloading package punkt to\n",
      "[nltk_data]     /Users/jacksonfuller/nltk_data...\n",
      "[nltk_data]   Package punkt is already up-to-date!\n",
      "[nltk_data] Downloading package wordnet to\n",
      "[nltk_data]     /Users/jacksonfuller/nltk_data...\n",
      "[nltk_data]   Package wordnet is already up-to-date!\n",
      "[nltk_data] Downloading package omw-1.4 to\n",
      "[nltk_data]     /Users/jacksonfuller/nltk_data...\n",
      "[nltk_data]   Package omw-1.4 is already up-to-date!\n"
     ]
    },
    {
     "data": {
      "text/plain": [
       "True"
      ]
     },
     "execution_count": 3,
     "metadata": {},
     "output_type": "execute_result"
    }
   ],
   "source": [
    "pd.set_option('display.max_colwidth', None)\n",
    "\n",
    "nltk.download('stopwords')\n",
    "nltk.download('punkt')\n",
    "nltk.download('wordnet')\n",
    "nltk.download('omw-1.4')"
   ]
  },
  {
   "cell_type": "markdown",
   "id": "37189881",
   "metadata": {},
   "source": [
    "Cleaning Dataset"
   ]
  },
  {
   "cell_type": "code",
   "execution_count": 4,
   "id": "c60204d2",
   "metadata": {
    "scrolled": true
   },
   "outputs": [
    {
     "data": {
      "text/html": [
       "<div>\n",
       "<style scoped>\n",
       "    .dataframe tbody tr th:only-of-type {\n",
       "        vertical-align: middle;\n",
       "    }\n",
       "\n",
       "    .dataframe tbody tr th {\n",
       "        vertical-align: top;\n",
       "    }\n",
       "\n",
       "    .dataframe thead th {\n",
       "        text-align: right;\n",
       "    }\n",
       "</style>\n",
       "<table border=\"1\" class=\"dataframe\">\n",
       "  <thead>\n",
       "    <tr style=\"text-align: right;\">\n",
       "      <th></th>\n",
       "      <th>Unnamed: 0</th>\n",
       "      <th>tweet_id</th>\n",
       "      <th>text</th>\n",
       "    </tr>\n",
       "  </thead>\n",
       "  <tbody>\n",
       "    <tr>\n",
       "      <th>0</th>\n",
       "      <td>0</td>\n",
       "      <td>1630989944289398784</td>\n",
       "      <td>I \"think\" I started my menstrual cycle yesterday, but due to the ablation surgery working, I'm not bleeding at all!\\n\\nIt's really bizarre and cool! I have always been regular, so I can track that it's the right time. But the period part of it is just not there at all. (One still…</td>\n",
       "    </tr>\n",
       "    <tr>\n",
       "      <th>1</th>\n",
       "      <td>1</td>\n",
       "      <td>1630974067875381265</td>\n",
       "      <td>cw menstruation ////\\n.\\n.\\n.\\ni have had my period for over 15 years. my cycle has always been over a month. when will my brain stop convincing myself that i’m pregnant every time i hit day 29 of my cycle.</td>\n",
       "    </tr>\n",
       "    <tr>\n",
       "      <th>2</th>\n",
       "      <td>2</td>\n",
       "      <td>1630965437709053952</td>\n",
       "      <td>Clubs must ensure that they enhance supportive measures to our women on matters Menstrual Health Hygiene Management (MHM) including period tracking, free sanitary pads, MHM talks internally and with health experts, etc.\\n\\n#PlayersWelfareKE https://t.co/WyOkrwc8Wh</td>\n",
       "    </tr>\n",
       "    <tr>\n",
       "      <th>3</th>\n",
       "      <td>3</td>\n",
       "      <td>1630878576538013696</td>\n",
       "      <td>#EndPeriodShaming\\nI used to think it was a normal narrative until I saw an orphan girl somewhere in the village who couldn't afford menstrual tools for her cycle and she was like \"I wish I was a boy, I wish I had parents\"😭\\nPads bring girls back to school. Pads end period poverty</td>\n",
       "    </tr>\n",
       "    <tr>\n",
       "      <th>4</th>\n",
       "      <td>4</td>\n",
       "      <td>1630863346143580161</td>\n",
       "      <td>Let’s push for ending period stigma, period poverty, provision of free and affordable sanitary pads, and open education on healthy, safe and dignified menstrual practices.\\n#KeepGirlsInSchool #EducationForAll #EndPeriodPoverty \\n#EndMenstrualStigma https://t.co/Ri7uMMjQwP</td>\n",
       "    </tr>\n",
       "  </tbody>\n",
       "</table>\n",
       "</div>"
      ],
      "text/plain": [
       "   Unnamed: 0             tweet_id  \\\n",
       "0           0  1630989944289398784   \n",
       "1           1  1630974067875381265   \n",
       "2           2  1630965437709053952   \n",
       "3           3  1630878576538013696   \n",
       "4           4  1630863346143580161   \n",
       "\n",
       "                                                                                                                                                                                                                                                                                        text  \n",
       "0  I \"think\" I started my menstrual cycle yesterday, but due to the ablation surgery working, I'm not bleeding at all!\\n\\nIt's really bizarre and cool! I have always been regular, so I can track that it's the right time. But the period part of it is just not there at all. (One still…  \n",
       "1                                                                             cw menstruation ////\\n.\\n.\\n.\\ni have had my period for over 15 years. my cycle has always been over a month. when will my brain stop convincing myself that i’m pregnant every time i hit day 29 of my cycle.  \n",
       "2                   Clubs must ensure that they enhance supportive measures to our women on matters Menstrual Health Hygiene Management (MHM) including period tracking, free sanitary pads, MHM talks internally and with health experts, etc.\\n\\n#PlayersWelfareKE https://t.co/WyOkrwc8Wh  \n",
       "3  #EndPeriodShaming\\nI used to think it was a normal narrative until I saw an orphan girl somewhere in the village who couldn't afford menstrual tools for her cycle and she was like \"I wish I was a boy, I wish I had parents\"😭\\nPads bring girls back to school. Pads end period poverty  \n",
       "4           Let’s push for ending period stigma, period poverty, provision of free and affordable sanitary pads, and open education on healthy, safe and dignified menstrual practices.\\n#KeepGirlsInSchool #EducationForAll #EndPeriodPoverty \\n#EndMenstrualStigma https://t.co/Ri7uMMjQwP  "
      ]
     },
     "execution_count": 4,
     "metadata": {},
     "output_type": "execute_result"
    }
   ],
   "source": [
    "# Import raw dataset\n",
    "tweets_df = pd.read_csv('dummy data')\n",
    "tweets_df.head()"
   ]
  },
  {
   "cell_type": "code",
   "execution_count": 5,
   "id": "bfad7e07",
   "metadata": {},
   "outputs": [],
   "source": [
    "def processed(text):    \n",
    "    # Remove links\n",
    "    text = re.sub('http://\\S+|https://\\S+', '', text)\n",
    "    text = re.sub('http[s]?://\\S+', '', text)\n",
    "    text = re.sub(r\"http\\S+\", \"\", text)\n",
    "\n",
    "    # Convert HTML references\n",
    "    text = re.sub('&amp', 'and', text)\n",
    "    text = re.sub('&lt', '<', text)\n",
    "    text = re.sub('&gt', '>', text)\n",
    "\n",
    "    # Remove new line characters\n",
    "    text = re.sub('[\\r\\n]+', ' ', text)\n",
    "    \n",
    "    # Remove mentions\n",
    "    text = re.sub(r'@\\w+', '', text)\n",
    "    \n",
    "    # Remove hashtags\n",
    "    text = re.sub(r'#\\w+', '', text)\n",
    "\n",
    "    # Remove multiple space characters\n",
    "    text = re.sub('\\s+',' ', text)\n",
    "    \n",
    "    # Convert to lowercase\n",
    "    text = text.lower()\n",
    "    \n",
    "    # Expand contractions\n",
    "    try:\n",
    "        return contractions.fix(text)\n",
    "    except:\n",
    "        return text"
   ]
  },
  {
   "cell_type": "code",
   "execution_count": 6,
   "id": "62e8d695",
   "metadata": {
    "scrolled": true
   },
   "outputs": [
    {
     "data": {
      "text/html": [
       "<div>\n",
       "<style scoped>\n",
       "    .dataframe tbody tr th:only-of-type {\n",
       "        vertical-align: middle;\n",
       "    }\n",
       "\n",
       "    .dataframe tbody tr th {\n",
       "        vertical-align: top;\n",
       "    }\n",
       "\n",
       "    .dataframe thead th {\n",
       "        text-align: right;\n",
       "    }\n",
       "</style>\n",
       "<table border=\"1\" class=\"dataframe\">\n",
       "  <thead>\n",
       "    <tr style=\"text-align: right;\">\n",
       "      <th></th>\n",
       "      <th>Unnamed: 0</th>\n",
       "      <th>tweet_id</th>\n",
       "      <th>text</th>\n",
       "      <th>processed_text</th>\n",
       "    </tr>\n",
       "  </thead>\n",
       "  <tbody>\n",
       "    <tr>\n",
       "      <th>0</th>\n",
       "      <td>0</td>\n",
       "      <td>1630989944289398784</td>\n",
       "      <td>I \"think\" I started my menstrual cycle yesterday, but due to the ablation surgery working, I'm not bleeding at all!\\n\\nIt's really bizarre and cool! I have always been regular, so I can track that it's the right time. But the period part of it is just not there at all. (One still…</td>\n",
       "      <td>i \"think\" i started my menstrual cycle yesterday, but due to the ablation surgery working, i am not bleeding at all! it is really bizarre and cool! i have always been regular, so i can track that it is the right time. but the period part of it is just not there at all. (one still…</td>\n",
       "    </tr>\n",
       "    <tr>\n",
       "      <th>1</th>\n",
       "      <td>1</td>\n",
       "      <td>1630974067875381265</td>\n",
       "      <td>cw menstruation ////\\n.\\n.\\n.\\ni have had my period for over 15 years. my cycle has always been over a month. when will my brain stop convincing myself that i’m pregnant every time i hit day 29 of my cycle.</td>\n",
       "      <td>cw menstruation //// . . . i have had my period for over 15 years. my cycle has always been over a month. when will my brain stop convincing myself that i am pregnant every time i hit day 29 of my cycle.</td>\n",
       "    </tr>\n",
       "    <tr>\n",
       "      <th>2</th>\n",
       "      <td>2</td>\n",
       "      <td>1630965437709053952</td>\n",
       "      <td>Clubs must ensure that they enhance supportive measures to our women on matters Menstrual Health Hygiene Management (MHM) including period tracking, free sanitary pads, MHM talks internally and with health experts, etc.\\n\\n#PlayersWelfareKE https://t.co/WyOkrwc8Wh</td>\n",
       "      <td>clubs must ensure that they enhance supportive measures to our women on matters menstrual health hygiene management (mhm) including period tracking, free sanitary pads, mhm talks internally and with health experts, etc.</td>\n",
       "    </tr>\n",
       "    <tr>\n",
       "      <th>3</th>\n",
       "      <td>3</td>\n",
       "      <td>1630878576538013696</td>\n",
       "      <td>#EndPeriodShaming\\nI used to think it was a normal narrative until I saw an orphan girl somewhere in the village who couldn't afford menstrual tools for her cycle and she was like \"I wish I was a boy, I wish I had parents\"😭\\nPads bring girls back to school. Pads end period poverty</td>\n",
       "      <td>i used to think it was a normal narrative until i saw an orphan girl somewhere in the village who could not afford menstrual tools for her cycle and she was like \"i wish i was a boy, i wish i had parents\"😭 pads bring girls back to school. pads end period poverty</td>\n",
       "    </tr>\n",
       "    <tr>\n",
       "      <th>4</th>\n",
       "      <td>4</td>\n",
       "      <td>1630863346143580161</td>\n",
       "      <td>Let’s push for ending period stigma, period poverty, provision of free and affordable sanitary pads, and open education on healthy, safe and dignified menstrual practices.\\n#KeepGirlsInSchool #EducationForAll #EndPeriodPoverty \\n#EndMenstrualStigma https://t.co/Ri7uMMjQwP</td>\n",
       "      <td>let us push for ending period stigma, period poverty, provision of free and affordable sanitary pads, and open education on healthy, safe and dignified menstrual practices.</td>\n",
       "    </tr>\n",
       "  </tbody>\n",
       "</table>\n",
       "</div>"
      ],
      "text/plain": [
       "   Unnamed: 0             tweet_id  \\\n",
       "0           0  1630989944289398784   \n",
       "1           1  1630974067875381265   \n",
       "2           2  1630965437709053952   \n",
       "3           3  1630878576538013696   \n",
       "4           4  1630863346143580161   \n",
       "\n",
       "                                                                                                                                                                                                                                                                                        text  \\\n",
       "0  I \"think\" I started my menstrual cycle yesterday, but due to the ablation surgery working, I'm not bleeding at all!\\n\\nIt's really bizarre and cool! I have always been regular, so I can track that it's the right time. But the period part of it is just not there at all. (One still…   \n",
       "1                                                                             cw menstruation ////\\n.\\n.\\n.\\ni have had my period for over 15 years. my cycle has always been over a month. when will my brain stop convincing myself that i’m pregnant every time i hit day 29 of my cycle.   \n",
       "2                   Clubs must ensure that they enhance supportive measures to our women on matters Menstrual Health Hygiene Management (MHM) including period tracking, free sanitary pads, MHM talks internally and with health experts, etc.\\n\\n#PlayersWelfareKE https://t.co/WyOkrwc8Wh   \n",
       "3  #EndPeriodShaming\\nI used to think it was a normal narrative until I saw an orphan girl somewhere in the village who couldn't afford menstrual tools for her cycle and she was like \"I wish I was a boy, I wish I had parents\"😭\\nPads bring girls back to school. Pads end period poverty   \n",
       "4           Let’s push for ending period stigma, period poverty, provision of free and affordable sanitary pads, and open education on healthy, safe and dignified menstrual practices.\\n#KeepGirlsInSchool #EducationForAll #EndPeriodPoverty \\n#EndMenstrualStigma https://t.co/Ri7uMMjQwP   \n",
       "\n",
       "                                                                                                                                                                                                                                                                              processed_text  \n",
       "0  i \"think\" i started my menstrual cycle yesterday, but due to the ablation surgery working, i am not bleeding at all! it is really bizarre and cool! i have always been regular, so i can track that it is the right time. but the period part of it is just not there at all. (one still…  \n",
       "1                                                                                cw menstruation //// . . . i have had my period for over 15 years. my cycle has always been over a month. when will my brain stop convincing myself that i am pregnant every time i hit day 29 of my cycle.  \n",
       "2                                                               clubs must ensure that they enhance supportive measures to our women on matters menstrual health hygiene management (mhm) including period tracking, free sanitary pads, mhm talks internally and with health experts, etc.   \n",
       "3                     i used to think it was a normal narrative until i saw an orphan girl somewhere in the village who could not afford menstrual tools for her cycle and she was like \"i wish i was a boy, i wish i had parents\"😭 pads bring girls back to school. pads end period poverty  \n",
       "4                                                                                                              let us push for ending period stigma, period poverty, provision of free and affordable sanitary pads, and open education on healthy, safe and dignified menstrual practices.   "
      ]
     },
     "execution_count": 6,
     "metadata": {},
     "output_type": "execute_result"
    }
   ],
   "source": [
    "tweets_df['processed_text'] = tweets_df['text'].apply(processed)\n",
    "tweets_df.head()"
   ]
  },
  {
   "cell_type": "code",
   "execution_count": 7,
   "id": "be1dc056",
   "metadata": {},
   "outputs": [],
   "source": [
    "# Initialize Lemmatize\n",
    "wordnet_lem = WordNetLemmatizer()\n",
    "stopwords = set(STOPWORDS)\n",
    "\n",
    "#  Strip punctuation, stopwords, numbers\n",
    "def stripped(text):\n",
    "    punctuation = '!\"$%&\\'()*+,-./:;<=>?[\\\\]^_`{|}~•@'\n",
    "    # Drop punctuation\n",
    "    text = re.sub('[' + punctuation + ']+', ' ', text)\n",
    "    # Drop numbers\n",
    "    text = re.sub(r'\\d+', '', text)\n",
    "    # Drop extra blank spaces\n",
    "    text = re.sub(r'\\s+', ' ', text).strip()\n",
    "    # Drop words less than 3 characters and stopwords\n",
    "    tokens = [word for word in text.split() if len(word) >= 3 and word not in stopwords]\n",
    "    return \" \".join(tokens)\n",
    "\n",
    "tweets_df['stripped_text'] = tweets_df['processed_text'].apply(stripped)\n",
    "\n",
    "# Lemmatize stripped text\n",
    "tweets_df['text_lem'] = tweets_df['stripped_text'].apply(wordnet_lem.lemmatize)"
   ]
  },
  {
   "cell_type": "code",
   "execution_count": 8,
   "id": "baa6c991",
   "metadata": {
    "scrolled": false
   },
   "outputs": [
    {
     "data": {
      "text/html": [
       "<div>\n",
       "<style scoped>\n",
       "    .dataframe tbody tr th:only-of-type {\n",
       "        vertical-align: middle;\n",
       "    }\n",
       "\n",
       "    .dataframe tbody tr th {\n",
       "        vertical-align: top;\n",
       "    }\n",
       "\n",
       "    .dataframe thead th {\n",
       "        text-align: right;\n",
       "    }\n",
       "</style>\n",
       "<table border=\"1\" class=\"dataframe\">\n",
       "  <thead>\n",
       "    <tr style=\"text-align: right;\">\n",
       "      <th></th>\n",
       "      <th>Unnamed: 0</th>\n",
       "      <th>tweet_id</th>\n",
       "      <th>text</th>\n",
       "      <th>processed_text</th>\n",
       "      <th>stripped_text</th>\n",
       "      <th>text_lem</th>\n",
       "      <th>text_tokens</th>\n",
       "    </tr>\n",
       "  </thead>\n",
       "  <tbody>\n",
       "    <tr>\n",
       "      <th>0</th>\n",
       "      <td>0</td>\n",
       "      <td>1630989944289398784</td>\n",
       "      <td>I \"think\" I started my menstrual cycle yesterday, but due to the ablation surgery working, I'm not bleeding at all!\\n\\nIt's really bizarre and cool! I have always been regular, so I can track that it's the right time. But the period part of it is just not there at all. (One still…</td>\n",
       "      <td>i \"think\" i started my menstrual cycle yesterday, but due to the ablation surgery working, i am not bleeding at all! it is really bizarre and cool! i have always been regular, so i can track that it is the right time. but the period part of it is just not there at all. (one still…</td>\n",
       "      <td>think started menstrual cycle yesterday due ablation surgery working bleeding really bizarre cool always regular track right time period part one still…</td>\n",
       "      <td>think started menstrual cycle yesterday due ablation surgery working bleeding really bizarre cool always regular track right time period part one still…</td>\n",
       "      <td>[think, started, menstrual, cycle, yesterday, due, ablation, surgery, working, bleeding, really, bizarre, cool, always, regular, track, right, time, period, part, one, still…]</td>\n",
       "    </tr>\n",
       "    <tr>\n",
       "      <th>1</th>\n",
       "      <td>1</td>\n",
       "      <td>1630974067875381265</td>\n",
       "      <td>cw menstruation ////\\n.\\n.\\n.\\ni have had my period for over 15 years. my cycle has always been over a month. when will my brain stop convincing myself that i’m pregnant every time i hit day 29 of my cycle.</td>\n",
       "      <td>cw menstruation //// . . . i have had my period for over 15 years. my cycle has always been over a month. when will my brain stop convincing myself that i am pregnant every time i hit day 29 of my cycle.</td>\n",
       "      <td>menstruation period years cycle always month will brain stop convincing pregnant every time hit day cycle</td>\n",
       "      <td>menstruation period years cycle always month will brain stop convincing pregnant every time hit day cycle</td>\n",
       "      <td>[menstruation, period, years, cycle, always, month, will, brain, stop, convincing, pregnant, every, time, hit, day, cycle]</td>\n",
       "    </tr>\n",
       "    <tr>\n",
       "      <th>2</th>\n",
       "      <td>2</td>\n",
       "      <td>1630965437709053952</td>\n",
       "      <td>Clubs must ensure that they enhance supportive measures to our women on matters Menstrual Health Hygiene Management (MHM) including period tracking, free sanitary pads, MHM talks internally and with health experts, etc.\\n\\n#PlayersWelfareKE https://t.co/WyOkrwc8Wh</td>\n",
       "      <td>clubs must ensure that they enhance supportive measures to our women on matters menstrual health hygiene management (mhm) including period tracking, free sanitary pads, mhm talks internally and with health experts, etc.</td>\n",
       "      <td>clubs must ensure enhance supportive measures women matters menstrual health hygiene management mhm including period tracking free sanitary pads mhm talks internally health experts etc</td>\n",
       "      <td>clubs must ensure enhance supportive measures women matters menstrual health hygiene management mhm including period tracking free sanitary pads mhm talks internally health experts etc</td>\n",
       "      <td>[clubs, must, ensure, enhance, supportive, measures, women, matters, menstrual, health, hygiene, management, mhm, including, period, tracking, free, sanitary, pads, mhm, talks, internally, health, experts, etc]</td>\n",
       "    </tr>\n",
       "    <tr>\n",
       "      <th>3</th>\n",
       "      <td>3</td>\n",
       "      <td>1630878576538013696</td>\n",
       "      <td>#EndPeriodShaming\\nI used to think it was a normal narrative until I saw an orphan girl somewhere in the village who couldn't afford menstrual tools for her cycle and she was like \"I wish I was a boy, I wish I had parents\"😭\\nPads bring girls back to school. Pads end period poverty</td>\n",
       "      <td>i used to think it was a normal narrative until i saw an orphan girl somewhere in the village who could not afford menstrual tools for her cycle and she was like \"i wish i was a boy, i wish i had parents\"😭 pads bring girls back to school. pads end period poverty</td>\n",
       "      <td>used think normal narrative saw orphan girl somewhere village afford menstrual tools cycle wish boy wish parents pads bring girls back school pads end period poverty</td>\n",
       "      <td>used think normal narrative saw orphan girl somewhere village afford menstrual tools cycle wish boy wish parents pads bring girls back school pads end period poverty</td>\n",
       "      <td>[used, think, normal, narrative, saw, orphan, girl, somewhere, village, afford, menstrual, tools, cycle, wish, boy, wish, parents, pads, bring, girls, back, school, pads, end, period, poverty]</td>\n",
       "    </tr>\n",
       "    <tr>\n",
       "      <th>4</th>\n",
       "      <td>4</td>\n",
       "      <td>1630863346143580161</td>\n",
       "      <td>Let’s push for ending period stigma, period poverty, provision of free and affordable sanitary pads, and open education on healthy, safe and dignified menstrual practices.\\n#KeepGirlsInSchool #EducationForAll #EndPeriodPoverty \\n#EndMenstrualStigma https://t.co/Ri7uMMjQwP</td>\n",
       "      <td>let us push for ending period stigma, period poverty, provision of free and affordable sanitary pads, and open education on healthy, safe and dignified menstrual practices.</td>\n",
       "      <td>let push ending period stigma period poverty provision free affordable sanitary pads open education healthy safe dignified menstrual practices</td>\n",
       "      <td>let push ending period stigma period poverty provision free affordable sanitary pads open education healthy safe dignified menstrual practices</td>\n",
       "      <td>[let, push, ending, period, stigma, period, poverty, provision, free, affordable, sanitary, pads, open, education, healthy, safe, dignified, menstrual, practices]</td>\n",
       "    </tr>\n",
       "  </tbody>\n",
       "</table>\n",
       "</div>"
      ],
      "text/plain": [
       "   Unnamed: 0             tweet_id  \\\n",
       "0           0  1630989944289398784   \n",
       "1           1  1630974067875381265   \n",
       "2           2  1630965437709053952   \n",
       "3           3  1630878576538013696   \n",
       "4           4  1630863346143580161   \n",
       "\n",
       "                                                                                                                                                                                                                                                                                        text  \\\n",
       "0  I \"think\" I started my menstrual cycle yesterday, but due to the ablation surgery working, I'm not bleeding at all!\\n\\nIt's really bizarre and cool! I have always been regular, so I can track that it's the right time. But the period part of it is just not there at all. (One still…   \n",
       "1                                                                             cw menstruation ////\\n.\\n.\\n.\\ni have had my period for over 15 years. my cycle has always been over a month. when will my brain stop convincing myself that i’m pregnant every time i hit day 29 of my cycle.   \n",
       "2                   Clubs must ensure that they enhance supportive measures to our women on matters Menstrual Health Hygiene Management (MHM) including period tracking, free sanitary pads, MHM talks internally and with health experts, etc.\\n\\n#PlayersWelfareKE https://t.co/WyOkrwc8Wh   \n",
       "3  #EndPeriodShaming\\nI used to think it was a normal narrative until I saw an orphan girl somewhere in the village who couldn't afford menstrual tools for her cycle and she was like \"I wish I was a boy, I wish I had parents\"😭\\nPads bring girls back to school. Pads end period poverty   \n",
       "4           Let’s push for ending period stigma, period poverty, provision of free and affordable sanitary pads, and open education on healthy, safe and dignified menstrual practices.\\n#KeepGirlsInSchool #EducationForAll #EndPeriodPoverty \\n#EndMenstrualStigma https://t.co/Ri7uMMjQwP   \n",
       "\n",
       "                                                                                                                                                                                                                                                                              processed_text  \\\n",
       "0  i \"think\" i started my menstrual cycle yesterday, but due to the ablation surgery working, i am not bleeding at all! it is really bizarre and cool! i have always been regular, so i can track that it is the right time. but the period part of it is just not there at all. (one still…   \n",
       "1                                                                                cw menstruation //// . . . i have had my period for over 15 years. my cycle has always been over a month. when will my brain stop convincing myself that i am pregnant every time i hit day 29 of my cycle.   \n",
       "2                                                               clubs must ensure that they enhance supportive measures to our women on matters menstrual health hygiene management (mhm) including period tracking, free sanitary pads, mhm talks internally and with health experts, etc.    \n",
       "3                     i used to think it was a normal narrative until i saw an orphan girl somewhere in the village who could not afford menstrual tools for her cycle and she was like \"i wish i was a boy, i wish i had parents\"😭 pads bring girls back to school. pads end period poverty   \n",
       "4                                                                                                              let us push for ending period stigma, period poverty, provision of free and affordable sanitary pads, and open education on healthy, safe and dignified menstrual practices.    \n",
       "\n",
       "                                                                                                                                                                              stripped_text  \\\n",
       "0                                  think started menstrual cycle yesterday due ablation surgery working bleeding really bizarre cool always regular track right time period part one still…   \n",
       "1                                                                                 menstruation period years cycle always month will brain stop convincing pregnant every time hit day cycle   \n",
       "2  clubs must ensure enhance supportive measures women matters menstrual health hygiene management mhm including period tracking free sanitary pads mhm talks internally health experts etc   \n",
       "3                     used think normal narrative saw orphan girl somewhere village afford menstrual tools cycle wish boy wish parents pads bring girls back school pads end period poverty   \n",
       "4                                            let push ending period stigma period poverty provision free affordable sanitary pads open education healthy safe dignified menstrual practices   \n",
       "\n",
       "                                                                                                                                                                                   text_lem  \\\n",
       "0                                  think started menstrual cycle yesterday due ablation surgery working bleeding really bizarre cool always regular track right time period part one still…   \n",
       "1                                                                                 menstruation period years cycle always month will brain stop convincing pregnant every time hit day cycle   \n",
       "2  clubs must ensure enhance supportive measures women matters menstrual health hygiene management mhm including period tracking free sanitary pads mhm talks internally health experts etc   \n",
       "3                     used think normal narrative saw orphan girl somewhere village afford menstrual tools cycle wish boy wish parents pads bring girls back school pads end period poverty   \n",
       "4                                            let push ending period stigma period poverty provision free affordable sanitary pads open education healthy safe dignified menstrual practices   \n",
       "\n",
       "                                                                                                                                                                                                          text_tokens  \n",
       "0                                     [think, started, menstrual, cycle, yesterday, due, ablation, surgery, working, bleeding, really, bizarre, cool, always, regular, track, right, time, period, part, one, still…]  \n",
       "1                                                                                          [menstruation, period, years, cycle, always, month, will, brain, stop, convincing, pregnant, every, time, hit, day, cycle]  \n",
       "2  [clubs, must, ensure, enhance, supportive, measures, women, matters, menstrual, health, hygiene, management, mhm, including, period, tracking, free, sanitary, pads, mhm, talks, internally, health, experts, etc]  \n",
       "3                    [used, think, normal, narrative, saw, orphan, girl, somewhere, village, afford, menstrual, tools, cycle, wish, boy, wish, parents, pads, bring, girls, back, school, pads, end, period, poverty]  \n",
       "4                                                  [let, push, ending, period, stigma, period, poverty, provision, free, affordable, sanitary, pads, open, education, healthy, safe, dignified, menstrual, practices]  "
      ]
     },
     "execution_count": 8,
     "metadata": {},
     "output_type": "execute_result"
    }
   ],
   "source": [
    "tweets_df['text_tokens'] = tweets_df['text_lem'].apply(word_tokenize)\n",
    "tweets_df.head()"
   ]
  },
  {
   "cell_type": "markdown",
   "id": "79298925",
   "metadata": {},
   "source": [
    "Hashtags"
   ]
  },
  {
   "cell_type": "code",
   "execution_count": 9,
   "id": "45971c08",
   "metadata": {},
   "outputs": [
    {
     "name": "stdout",
     "output_type": "stream",
     "text": [
      "#endperiodshaming    13        \n",
      "#periods             5         \n",
      "#sanitarypads        5         \n",
      "#menstruation        4         \n",
      "#endperiodpoverty    3         \n",
      "#letherknow          2         \n",
      "#menstrualcycle      2         \n",
      "#urchoice            2         \n",
      "#anionnapkin         2         \n",
      "#fastabsorbing       2         \n",
      "#distributor         2         \n",
      "#period              2         \n",
      "#sleepbindazzz       2         \n",
      "#sanitarynapkin      2         \n",
      "#menstruationmatters 2         \n",
      "#playerswelfareke    1         \n",
      "#keepgirlsinschool   1         \n",
      "#educationforall     1         \n",
      "#endmenstrualstigma  1         \n",
      "#womben              1         \n"
     ]
    }
   ],
   "source": [
    "# Create list of all hashtags in dataset\n",
    "hashtags_list = []\n",
    "\n",
    "for tweet in tweets_df['text']:\n",
    "    # Extract hashtags from tweet content\n",
    "    hashtags_temp = [hashtag.lower() for hashtag in re.findall(r'#\\w+', tweet)]\n",
    "    # Append hashtags to list\n",
    "    hashtags_list.extend(hashtags_temp)\n",
    "\n",
    "# Count frequency of each hashtag\n",
    "hashtags_count = Counter(hashtags_list)\n",
    "\n",
    "# Print the top 20 most common hashtags\n",
    "top_n = 20\n",
    "for hashtag, count in hashtags_count.most_common(top_n):\n",
    "    print(f\"{hashtag:<20} {count:<10}\")"
   ]
  },
  {
   "cell_type": "markdown",
   "id": "1231383e",
   "metadata": {},
   "source": [
    "Mentions"
   ]
  },
  {
   "cell_type": "code",
   "execution_count": 10,
   "id": "4082b44b",
   "metadata": {},
   "outputs": [
    {
     "name": "stdout",
     "output_type": "stream",
     "text": [
      "@gloria_orwoba       12        \n",
      "@jillfilipovic       3         \n",
      "@leopardonbackup     2         \n",
      "@dearblueearth       1         \n",
      "@seanbraisted        1         \n",
      "@ghosty02772504      1         \n",
      "@surende12737855     1         \n",
      "@gonegirlisback      1         \n",
      "@tinni_aphrodite     1         \n",
      "@ishcomic            1         \n",
      "@mahuadey20          1         \n",
      "@ranjona             1         \n",
      "@_sarvesh_jha_       1         \n",
      "@ias_keeda           1         \n",
      "@elle_kaye11         1         \n",
      "@la_sassypants       1         \n",
      "@dc_draino           1         \n",
      "@rubinsafaya         1         \n",
      "@sunshineisbrief     1         \n",
      "@arjunkganguly2      1         \n"
     ]
    }
   ],
   "source": [
    "# Create list of all hashtags in dataset\n",
    "mentions_list = []\n",
    "\n",
    "for tweet in tweets_df['text']:\n",
    "    # Extract hashtags from tweet content\n",
    "    mentions_temp = [mention.lower() for mention in re.findall(r'@\\w+', tweet)]\n",
    "    # Append hashtags to list\n",
    "    mentions_list.extend(mentions_temp)\n",
    "\n",
    "# Count frequency of each hashtag\n",
    "mentions_count = Counter(mentions_list)\n",
    "\n",
    "# Print the top 20 most common hashtags\n",
    "top_n = 20\n",
    "for mentions, count in mentions_count.most_common(top_n):\n",
    "    print(f\"{mentions:<20} {count:<10}\")"
   ]
  },
  {
   "cell_type": "markdown",
   "id": "fe2cf498",
   "metadata": {},
   "source": [
    "Unigrams (incl. worldcloud w/wo keywords)"
   ]
  },
  {
   "cell_type": "code",
   "execution_count": 11,
   "id": "513e1436",
   "metadata": {},
   "outputs": [],
   "source": [
    "# Creating basic wordcloud without a shape mask\n",
    "#stopwords = set(STOPWORDS)\n",
    "\n",
    "#wordcloud_twitter = WordCloud(background_color = 'white', \n",
    "#                              mode=\"RGBA\", \n",
    "#                              stopwords=stopwords).generate(all_words_lem)\n",
    "# Display the generated Word Cloud\n",
    "#plt.imshow(wordcloud_twitter, interpolation='bilinear')\n",
    "#plt.axis(\"off\")\n",
    "#plt.show()"
   ]
  },
  {
   "cell_type": "code",
   "execution_count": 12,
   "id": "40d808fa",
   "metadata": {},
   "outputs": [],
   "source": [
    "# Making brand logo maskable if not already\n",
    "#mask = np.array(Image.open(\"lymlogo.png\"))\n",
    "\n",
    "#def transform_zeros(val):\n",
    "#    if val == 0:\n",
    "#        return 255\n",
    "#    else:\n",
    "#        return val\n",
    "    \n",
    "#maskable_image = np.ndarray((mask.shape[0],mask.shape[1]), np.int32)\n",
    "\n",
    "#for i in range(len(mask)):\n",
    "#    maskable_image[i] = list(map(transform_zeros, mask[i]))\n",
    "    \n",
    "#mask = maskable_image"
   ]
  },
  {
   "cell_type": "code",
   "execution_count": 13,
   "id": "123f3f52",
   "metadata": {
    "scrolled": true
   },
   "outputs": [
    {
     "data": {
      "image/png": "[encoded data removed]",
      "text/plain": [
       "<Figure size 720x720 with 1 Axes>"
      ]
     },
     "metadata": {
      "needs_background": "light"
     },
     "output_type": "display_data"
    }
   ],
   "source": [
    "# Generate a word cloud image with mask\n",
    "\n",
    "# Join all lemmatized words in a list\n",
    "all_words_lem = ' '.join([word for word in tweets_df['text_lem']])\n",
    "\n",
    "mask = np.array(Image.open(\"lymlogo2.png\"))\n",
    "\n",
    "stopwords = set(STOPWORDS)\n",
    "\n",
    "wordcloud_twitter1 = WordCloud(height=400,\n",
    "                              width=800,\n",
    "                              background_color=\"white\", \n",
    "                              mode=\"RGBA\",\n",
    "                              stopwords=stopwords,\n",
    "                              mask=mask).generate(all_words_lem)\n",
    "\n",
    "# Display the generated Word Cloud\n",
    "image_colors = ImageColorGenerator(mask)\n",
    "plt.figure(figsize=[10,10])\n",
    "plt.imshow(wordcloud_twitter1.recolor(color_func=image_colors), interpolation='bilinear')\n",
    "plt.tight_layout(pad=0)\n",
    "plt.axis(\"off\")\n",
    "plt.show()"
   ]
  },
  {
   "cell_type": "code",
   "execution_count": 14,
   "id": "52ce6cbe",
   "metadata": {},
   "outputs": [],
   "source": [
    "# Generate a word cloud image with mask excluding keywords\n",
    "\n",
    "# List of keywords to remove\n",
    "# *Need to edit this code, the drop function doesn't work all the way throughout\n",
    "#keywords_drop = ['period','cycle','sanitary', 'pads', 'cramps', 'cycle', 'bleed', 'bleeding','poverty', 'menstruate','menstruation','menstrual','menses', 'menstruates', 'menstruated', 'menstruating', 'menstruous','premenstrual','postmenstrual', 'menopause','PMS', 'PMDD', 'endometriosis', 'fibroids', 'tampon', 'tampons']\n",
    "\n",
    "# Remove all the words in the list of keywords\n",
    "#processed_words_lem = \"\"\n",
    "#for word in all_words_lem.split():\n",
    "#    if word not in keywords_drop:\n",
    "#        processed_words_lem += word + \" \"\n",
    "\n",
    "#processed_words_lem = processed_words_lem.strip()\n",
    "\n",
    "#wordcloud_twitter2 = WordCloud(height=400,\n",
    "#                              width=800,\n",
    "#                              background_color=\"white\", \n",
    "#                              mode=\"RGBA\",\n",
    "#                              stopwords=stopwords,\n",
    "#                              mask=mask).generate(processed_words_lem)\n",
    "\n",
    "# Display the generated Word Cloud\n",
    "#image_colors = ImageColorGenerator(mask)\n",
    "#plt.figure(figsize=[10,10])\n",
    "#plt.imshow(wordcloud_twitter1.recolor(color_func=image_colors), interpolation='bilinear')\n",
    "#plt.tight_layout(pad=0)\n",
    "#plt.axis(\"off\")\n",
    "#plt.show()"
   ]
  },
  {
   "cell_type": "markdown",
   "id": "428493d9",
   "metadata": {},
   "source": [
    "Bi-grams"
   ]
  },
  {
   "cell_type": "code",
   "execution_count": 15,
   "id": "6dacfcc1",
   "metadata": {},
   "outputs": [
    {
     "name": "stdout",
     "output_type": "stream",
     "text": [
      "menstrual cycle 35\n",
      "period poverty 18\n",
      "senator gloria 12\n",
      "gloria orwoba 12\n",
      "end period 11\n",
      "orwoba end 9\n",
      "menstrual hygiene 7\n",
      "menstrual health 6\n",
      "women girls 6\n",
      "sanitary napkin 5\n",
      "afford sanitary 5\n",
      "period just 4\n",
      "hygiene management 4\n",
      "menstrual products 4\n",
      "free sanitary 3\n",
      "cycle like 3\n",
      "provision free 3\n",
      "feminine hygiene 3\n",
      "menstruation cycle 3\n"
     ]
    }
   ],
   "source": [
    "def get_top_n_bigram(corpus, n=None):\n",
    "    vec = CountVectorizer(ngram_range=(2, 2), stop_words='english').fit(corpus)\n",
    "    bag_of_words = vec.transform(corpus)\n",
    "    sum_words = bag_of_words.sum(axis=0) \n",
    "    words_freq = [(word, sum_words[0, idx]) for word, idx in vec.vocabulary_.items()]\n",
    "    words_freq = sorted(words_freq, key = lambda x: x[1], reverse=True)\n",
    "    return words_freq[:n]\n",
    "\n",
    "bigrams_list = get_top_n_bigram(tweets_df['processed_text'], 20)\n",
    "bigrams_list = bigrams_list[1:]\n",
    "\n",
    "for word, freq in bigrams_list:\n",
    "    print(word, freq)"
   ]
  },
  {
   "cell_type": "code",
   "execution_count": 16,
   "id": "0383d81a",
   "metadata": {},
   "outputs": [],
   "source": [
    "# Top bigrams excluding keywords\n",
    "# bigrams_list2 = get_top_n_bigram(tweets_df['processed_text'], 50)\n",
    "# bigrams_list2 = bigrams_list2[1:]\n",
    "\n",
    "# to_drop = ['period cycle','sanitary pads', 'my period', 'your period', 'period cramps', 'period cycle', 'period bleed', 'period bleeding','period poverty''menstruate','menstruation','menstrual','menses', 'menstruates', 'menstruated', 'menstruating', 'menstruous','premenstrual','postmenstrual', 'menopause','PMS', 'PMDD', 'endometriosis', 'fibroids', 'tampon', 'tampons']\n",
    "\n",
    "\n",
    "#for word, freq in bigrams_list2:\n",
    "#    print(word, freq)"
   ]
  },
  {
   "cell_type": "markdown",
   "id": "70746177",
   "metadata": {},
   "source": [
    "Tri-grams"
   ]
  },
  {
   "cell_type": "code",
   "execution_count": 17,
   "id": "15bfeec7",
   "metadata": {},
   "outputs": [
    {
     "name": "stdout",
     "output_type": "stream",
     "text": [
      "senator gloria orwoba 12\n",
      "end period poverty 11\n",
      "gloria orwoba end 9\n",
      "orwoba end period 9\n",
      "afford sanitary pads 5\n",
      "free sanitary pads 3\n",
      "menstrual hygiene management 3\n",
      "menstrual cycle period 3\n",
      "woman menstrual cycle 3\n",
      "women girls kenya 3\n",
      "let push ending 2\n",
      "push ending period 2\n",
      "ending period stigma 2\n",
      "period stigma period 2\n",
      "stigma period poverty 2\n",
      "period poverty provision 2\n",
      "poverty provision free 2\n",
      "provision free affordable 2\n",
      "free affordable sanitary 2\n",
      "affordable sanitary pads 2\n"
     ]
    }
   ],
   "source": [
    "# Top trigrams\n",
    "def get_top_n_trigram(corpus, n=None):\n",
    "    vec = CountVectorizer(ngram_range=(3, 3), stop_words='english').fit(corpus)\n",
    "    bag_of_words = vec.transform(corpus)\n",
    "    sum_words = bag_of_words.sum(axis=0) \n",
    "    words_freq = [(word, sum_words[0, idx]) for word, idx in vec.vocabulary_.items()]\n",
    "    words_freq = sorted(words_freq, key = lambda x: x[1], reverse=True)\n",
    "    return words_freq[:n]\n",
    "\n",
    "trigrams_list = get_top_n_trigram(tweets_df['processed_text'], 20)\n",
    "\n",
    "for word, freq in trigrams_list:\n",
    "    print(word, freq)"
   ]
  },
  {
   "cell_type": "code",
   "execution_count": 18,
   "id": "af9c1b58",
   "metadata": {},
   "outputs": [],
   "source": [
    "# Export pre-processed data for analysis\n",
    "tweets_df.to_csv(\"dummy data_processed\")"
   ]
  }
 ],
 "metadata": {
  "kernelspec": {
   "display_name": "Python 3 (ipykernel)",
   "language": "python",
   "name": "python3"
  },
  "language_info": {
   "codemirror_mode": {
    "name": "ipython",
    "version": 3
   },
   "file_extension": ".py",
   "mimetype": "text/x-python",
   "name": "python",
   "nbconvert_exporter": "python",
   "pygments_lexer": "ipython3",
   "version": "3.9.7"
  }
 },
 "nbformat": 4,
 "nbformat_minor": 5
}
