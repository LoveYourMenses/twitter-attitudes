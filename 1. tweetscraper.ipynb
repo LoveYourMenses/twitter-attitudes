{
 "cells": [
  {
   "cell_type": "markdown",
   "id": "c2662f51",
   "metadata": {},
   "source": [
    "Notebook for Tweet Scraper"
   ]
  },
  {
   "cell_type": "code",
   "execution_count": 1,
   "id": "ea983f09",
   "metadata": {},
   "outputs": [],
   "source": [
    "#install snscrape package, uncomment if not installed\n",
    "#!pip install git+https://github.com/JustAnotherArchivist/snscrape.git"
   ]
  },
  {
   "cell_type": "code",
   "execution_count": 2,
   "id": "26e5181a",
   "metadata": {},
   "outputs": [],
   "source": [
    "#import libraries\n",
    "import snscrape.modules.twitter as sntwitter\n",
    "import pandas as pd\n",
    "import numpy as np\n",
    "import re"
   ]
  },
  {
   "cell_type": "code",
   "execution_count": 3,
   "id": "450e85cf",
   "metadata": {},
   "outputs": [],
   "source": [
    "pd.set_option('display.max_colwidth', None)"
   ]
  },
  {
   "cell_type": "code",
   "execution_count": 7,
   "id": "098d342b",
   "metadata": {
    "scrolled": true
   },
   "outputs": [],
   "source": [
    "# Setting variables to be used below\n",
    "maxTweets = 1000000\n",
    "keywords_list = ['period cycle','sanitary pads', 'my period', 'your period', 'period cramps', 'period bleed', 'period bleeding','period poverty','menstruate','menstruation','menstrual','menses', 'menstruates', 'menstruated', 'menstruating', 'menstruous','premenstrual','postmenstrual', 'menopause','PMS', 'PMDD', 'endometriosis', 'fibroids', 'tampon', 'tampons']\n",
    "# OR operator to join search terms\n",
    "keywords = ' OR '.join(keywords_list)\n",
    "\n",
    "# Creating list to append tweet data to\n",
    "tweets_list = []\n",
    "\n",
    "# Using TwitterSearchScraper to scrape data and append tweets to list\n",
    "for i,tweet in enumerate(sntwitter.TwitterSearchScraper(keywords + 'since:2023-01-01 until:2023-03-31 lang:en').get_items()):\n",
    "    if i>maxTweets:\n",
    "        break\n",
    "    tweets_list.append([tweet.id, tweet.date, tweet.rawContent])"
   ]
  },
  {
   "cell_type": "code",
   "execution_count": 8,
   "id": "05e311ad",
   "metadata": {},
   "outputs": [
    {
     "data": {
      "text/html": [
       "<div>\n",
       "<style scoped>\n",
       "    .dataframe tbody tr th:only-of-type {\n",
       "        vertical-align: middle;\n",
       "    }\n",
       "\n",
       "    .dataframe tbody tr th {\n",
       "        vertical-align: top;\n",
       "    }\n",
       "\n",
       "    .dataframe thead th {\n",
       "        text-align: right;\n",
       "    }\n",
       "</style>\n",
       "<table border=\"1\" class=\"dataframe\">\n",
       "  <thead>\n",
       "    <tr style=\"text-align: right;\">\n",
       "      <th></th>\n",
       "      <th>tweet_id</th>\n",
       "      <th>tweet_date</th>\n",
       "      <th>text</th>\n",
       "    </tr>\n",
       "  </thead>\n",
       "  <tbody>\n",
       "    <tr>\n",
       "      <th>0</th>\n",
       "      <td>1630713870942871552</td>\n",
       "      <td>2023-02-28 23:37:38+00:00</td>\n",
       "      <td>To my calculations, there’s a lot of us #womben about to start our moon cycles (period/menstruation cycle). It’s about to get hectic out here</td>\n",
       "    </tr>\n",
       "    <tr>\n",
       "      <th>1</th>\n",
       "      <td>1630688444165783569</td>\n",
       "      <td>2023-02-28 21:56:36+00:00</td>\n",
       "      <td>Ordered a swimsuit two weeks ago so that I could splash splash in peace before my periods but it's still not here and PMS has started....the cycle of never working out bcuz of period continues</td>\n",
       "    </tr>\n",
       "    <tr>\n",
       "      <th>2</th>\n",
       "      <td>1630624733183238144</td>\n",
       "      <td>2023-02-28 17:43:26+00:00</td>\n",
       "      <td>Once upon a time I thought I didn’t get PMS bc I don’t cramp, &amp;amp; get rather light periods. Well, your girl got dx’d with BPD and the 💡 came on when I noticed that my symptoms get SUPER INTENSE on the first days of my cycle. I agree with this.</td>\n",
       "    </tr>\n",
       "    <tr>\n",
       "      <th>3</th>\n",
       "      <td>1630570756412252163</td>\n",
       "      <td>2023-02-28 14:08:57+00:00</td>\n",
       "      <td>Is it possible to be fat enough for your period to be irregular or is it something I made up to excuse the fact that there isn't anything wrong w my menstrual cycle I'm just different</td>\n",
       "    </tr>\n",
       "    <tr>\n",
       "      <th>4</th>\n",
       "      <td>1630549631779086337</td>\n",
       "      <td>2023-02-28 12:45:01+00:00</td>\n",
       "      <td>@Leopardonbackup @JillFilipovic Lmao no dude. The vaccine threw off my period for a cycle, but bc of how the menstrual cycle and the immune system are related it's really not a smoking gun. This is hilarious because an UNVACCINATED person thinks she... caught... airborne? extra periods 💀</td>\n",
       "    </tr>\n",
       "  </tbody>\n",
       "</table>\n",
       "</div>"
      ],
      "text/plain": [
       "              tweet_id                tweet_date  \\\n",
       "0  1630713870942871552 2023-02-28 23:37:38+00:00   \n",
       "1  1630688444165783569 2023-02-28 21:56:36+00:00   \n",
       "2  1630624733183238144 2023-02-28 17:43:26+00:00   \n",
       "3  1630570756412252163 2023-02-28 14:08:57+00:00   \n",
       "4  1630549631779086337 2023-02-28 12:45:01+00:00   \n",
       "\n",
       "                                                                                                                                                                                                                                                                                               text  \n",
       "0                                                                                                                                                     To my calculations, there’s a lot of us #womben about to start our moon cycles (period/menstruation cycle). It’s about to get hectic out here  \n",
       "1                                                                                                  Ordered a swimsuit two weeks ago so that I could splash splash in peace before my periods but it's still not here and PMS has started....the cycle of never working out bcuz of period continues  \n",
       "2                                             Once upon a time I thought I didn’t get PMS bc I don’t cramp, &amp; get rather light periods. Well, your girl got dx’d with BPD and the 💡 came on when I noticed that my symptoms get SUPER INTENSE on the first days of my cycle. I agree with this.  \n",
       "3                                                                                                           Is it possible to be fat enough for your period to be irregular or is it something I made up to excuse the fact that there isn't anything wrong w my menstrual cycle I'm just different  \n",
       "4  @Leopardonbackup @JillFilipovic Lmao no dude. The vaccine threw off my period for a cycle, but bc of how the menstrual cycle and the immune system are related it's really not a smoking gun. This is hilarious because an UNVACCINATED person thinks she... caught... airborne? extra periods 💀  "
      ]
     },
     "execution_count": 8,
     "metadata": {},
     "output_type": "execute_result"
    }
   ],
   "source": [
    "# Creating a dataframe from the tweets list above\n",
    "tweets_df = pd.DataFrame(tweets_list, columns=['tweet_id', 'tweet_date', 'text'])\n",
    "\n",
    "# Display first 5 entries from dataframe\n",
    "tweets_df.head()"
   ]
  },
  {
   "cell_type": "code",
   "execution_count": 6,
   "id": "f395b1e1",
   "metadata": {},
   "outputs": [],
   "source": [
    "tweets_df.to_csv(\"tweet\")"
   ]
  },
  {
   "cell_type": "code",
   "execution_count": null,
   "id": "59a5ec39",
   "metadata": {},
   "outputs": [],
   "source": []
  }
 ],
 "metadata": {
  "kernelspec": {
   "display_name": "Python 3 (ipykernel)",
   "language": "python",
   "name": "python3"
  },
  "language_info": {
   "codemirror_mode": {
    "name": "ipython",
    "version": 3
   },
   "file_extension": ".py",
   "mimetype": "text/x-python",
   "name": "python",
   "nbconvert_exporter": "python",
   "pygments_lexer": "ipython3",
   "version": "3.9.7"
  }
 },
 "nbformat": 4,
 "nbformat_minor": 5
}
