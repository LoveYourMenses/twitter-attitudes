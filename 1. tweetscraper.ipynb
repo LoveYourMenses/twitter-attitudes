{
 "cells": [
  {
   "cell_type": "markdown",
   "id": "c2662f51",
   "metadata": {},
   "source": [
    "Notebook for Tweet Scraper"
   ]
  },
  {
   "cell_type": "code",
   "execution_count": 1,
   "id": "ea983f09",
   "metadata": {},
   "outputs": [],
   "source": [
    "#install snscrape package, uncomment if not installed\n",
    "#!pip install git+https://github.com/JustAnotherArchivist/snscrape.git"
   ]
  },
  {
   "cell_type": "code",
   "execution_count": 2,
   "id": "26e5181a",
   "metadata": {},
   "outputs": [],
   "source": [
    "#import libraries\n",
    "import snscrape.modules.twitter as sntwitter\n",
    "import pandas as pd\n",
    "import numpy as np\n",
    "import re"
   ]
  },
  {
   "cell_type": "code",
   "execution_count": 3,
   "id": "450e85cf",
   "metadata": {},
   "outputs": [],
   "source": [
    "pd.set_option('display.max_colwidth', None)"
   ]
  },
  {
   "cell_type": "code",
   "execution_count": 4,
   "id": "098d342b",
   "metadata": {
    "scrolled": true
   },
   "outputs": [],
   "source": [
    "# Setting variables to be used below\n",
    "maxTweets = 1000000\n",
    "keywords_list = ['period cycle','sanitary pads', 'my period', 'your period', 'period cramps', 'period bleed', 'period bleeding','period poverty','menstruate','menstruation','menstrual','menses', 'menstruates', 'menstruated', 'menstruating', 'menstruous','premenstrual','postmenstrual', 'menopause','PMS', 'PMDD', 'endometriosis', 'fibroids', 'tampon', 'tampons']\n",
    "# OR operator to join search terms\n",
    "keywords = ' OR '.join(keywords_list)\n",
    "\n",
    "# Creating list to append tweet data to\n",
    "tweets_list = []\n",
    "\n",
    "# Using TwitterSearchScraper to scrape data and append tweets to list\n",
    "for i,tweet in enumerate(sntwitter.TwitterSearchScraper(keywords + 'since:2023-01-01 lang:en').get_items()):\n",
    "    if i>maxTweets:\n",
    "        break\n",
    "    tweets_list.append([tweet.id, tweet.date, tweet.rawContent])"
   ]
  },
  {
   "cell_type": "code",
   "execution_count": 5,
   "id": "05e311ad",
   "metadata": {},
   "outputs": [
    {
     "data": {
      "text/html": [
       "<div>\n",
       "<style scoped>\n",
       "    .dataframe tbody tr th:only-of-type {\n",
       "        vertical-align: middle;\n",
       "    }\n",
       "\n",
       "    .dataframe tbody tr th {\n",
       "        vertical-align: top;\n",
       "    }\n",
       "\n",
       "    .dataframe thead th {\n",
       "        text-align: right;\n",
       "    }\n",
       "</style>\n",
       "<table border=\"1\" class=\"dataframe\">\n",
       "  <thead>\n",
       "    <tr style=\"text-align: right;\">\n",
       "      <th></th>\n",
       "      <th>tweet_id</th>\n",
       "      <th>tweet_date</th>\n",
       "      <th>text</th>\n",
       "    </tr>\n",
       "  </thead>\n",
       "  <tbody>\n",
       "    <tr>\n",
       "      <th>0</th>\n",
       "      <td>1644424918044385280</td>\n",
       "      <td>2023-04-07 19:40:27+00:00</td>\n",
       "      <td>Despite the Government of Malawi lifting the Tax on Sanitary Pads. Period Poverty is still putting Girls at risk of loss. A lot of adolescent girls still miss classes at school contributing to poor performance which sees them drop out from school in the long run.  #support https://t.co/tTMuQkKa2k</td>\n",
       "    </tr>\n",
       "    <tr>\n",
       "      <th>1</th>\n",
       "      <td>1644374188961169410</td>\n",
       "      <td>2023-04-07 16:18:52+00:00</td>\n",
       "      <td>menstrual cycles are fucked because why am i different types of insane every week on a cycle that lines up with my period. like. give me a break</td>\n",
       "    </tr>\n",
       "    <tr>\n",
       "      <th>2</th>\n",
       "      <td>1644341071055560705</td>\n",
       "      <td>2023-04-07 14:07:16+00:00</td>\n",
       "      <td>it's tmi mostly. my priv knows my menstrual cycle better than my period tracking app</td>\n",
       "    </tr>\n",
       "    <tr>\n",
       "      <th>3</th>\n",
       "      <td>1644323350989139968</td>\n",
       "      <td>2023-04-07 12:56:51+00:00</td>\n",
       "      <td>Bredda I don’t know what my period does to me but I spend the entire week wanting to kms. \\n\\nI will think about random things and my brain leads it back to I should just die then I’m bawling for an hour. I hate the menstrual cycle more than I hate men. And I really hate men.</td>\n",
       "    </tr>\n",
       "    <tr>\n",
       "      <th>4</th>\n",
       "      <td>1644105713470394369</td>\n",
       "      <td>2023-04-06 22:32:02+00:00</td>\n",
       "      <td>Sanitary bin. Nowhere nearby stocks products and I didn’t have anything on me, nor did my friends. Why oh why is it so impossible for people who menstruate to be thought about when it comes to businesses, their bathroom designs and available period products?</td>\n",
       "    </tr>\n",
       "  </tbody>\n",
       "</table>\n",
       "</div>"
      ],
      "text/plain": [
       "              tweet_id                tweet_date  \\\n",
       "0  1644424918044385280 2023-04-07 19:40:27+00:00   \n",
       "1  1644374188961169410 2023-04-07 16:18:52+00:00   \n",
       "2  1644341071055560705 2023-04-07 14:07:16+00:00   \n",
       "3  1644323350989139968 2023-04-07 12:56:51+00:00   \n",
       "4  1644105713470394369 2023-04-06 22:32:02+00:00   \n",
       "\n",
       "                                                                                                                                                                                                                                                                                                        text  \n",
       "0  Despite the Government of Malawi lifting the Tax on Sanitary Pads. Period Poverty is still putting Girls at risk of loss. A lot of adolescent girls still miss classes at school contributing to poor performance which sees them drop out from school in the long run.  #support https://t.co/tTMuQkKa2k  \n",
       "1                                                                                                                                                           menstrual cycles are fucked because why am i different types of insane every week on a cycle that lines up with my period. like. give me a break  \n",
       "2                                                                                                                                                                                                                       it's tmi mostly. my priv knows my menstrual cycle better than my period tracking app  \n",
       "3                       Bredda I don’t know what my period does to me but I spend the entire week wanting to kms. \\n\\nI will think about random things and my brain leads it back to I should just die then I’m bawling for an hour. I hate the menstrual cycle more than I hate men. And I really hate men.  \n",
       "4                                         Sanitary bin. Nowhere nearby stocks products and I didn’t have anything on me, nor did my friends. Why oh why is it so impossible for people who menstruate to be thought about when it comes to businesses, their bathroom designs and available period products?  "
      ]
     },
     "execution_count": 5,
     "metadata": {},
     "output_type": "execute_result"
    }
   ],
   "source": [
    "# Creating a dataframe from the tweets list above\n",
    "tweets_df = pd.DataFrame(tweets_list, columns=['tweet_id', 'tweet_date', 'text'])\n",
    "\n",
    "# Display first 5 entries from dataframe\n",
    "tweets_df.head()"
   ]
  },
  {
   "cell_type": "code",
   "execution_count": 6,
   "id": "59a5ec39",
   "metadata": {},
   "outputs": [
    {
     "data": {
      "text/plain": [
       "14908"
      ]
     },
     "execution_count": 6,
     "metadata": {},
     "output_type": "execute_result"
    }
   ],
   "source": [
    "len(tweets_df)"
   ]
  },
  {
   "cell_type": "code",
   "execution_count": 7,
   "id": "f395b1e1",
   "metadata": {},
   "outputs": [],
   "source": [
    "tweets_df.to_csv(\"tweets jan22-mar23\")"
   ]
  },
  {
   "cell_type": "code",
   "execution_count": null,
   "id": "d34ab52e",
   "metadata": {},
   "outputs": [],
   "source": []
  }
 ],
 "metadata": {
  "kernelspec": {
   "display_name": "Python 3 (ipykernel)",
   "language": "python",
   "name": "python3"
  },
  "language_info": {
   "codemirror_mode": {
    "name": "ipython",
    "version": 3
   },
   "file_extension": ".py",
   "mimetype": "text/x-python",
   "name": "python",
   "nbconvert_exporter": "python",
   "pygments_lexer": "ipython3",
   "version": "3.9.7"
  }
 },
 "nbformat": 4,
 "nbformat_minor": 5
}
